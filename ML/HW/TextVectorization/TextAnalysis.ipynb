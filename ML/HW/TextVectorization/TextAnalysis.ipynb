{
  "cells": [
    {
      "cell_type": "markdown",
      "metadata": {
        "id": "Ffq6A2-ifzAA"
      },
      "source": [
        "# Интеллектуальный анализ данных – весна 2024\n",
        "# Домашнее задание 6: классификация текстов"
      ]
    },
    {
      "cell_type": "markdown",
      "source": [
        "Правила:\n",
        "\n",
        "\n",
        "\n",
        "*   Домашнее задание оценивается в 10 баллов.\n",
        "*   Можно использовать без доказательства любые результаты, встречавшиеся на лекциях или семинарах по курсу, если получение этих результатов не является вопросом задания.\n",
        "*  Можно использовать любые свободные источники с *обязательным* указанием ссылки на них.\n",
        "*  Плагиат не допускается. При обнаружении случаев списывания, 0 за работу выставляется всем участникам нарушения, даже если можно установить, кто у кого списал.\n",
        "*  Старайтесь сделать код как можно более оптимальным. В частности, будет штрафоваться использование циклов в тех случаях, когда операцию можно совершить при помощи инструментов библиотек, о которых рассказывалось в курсе."
      ],
      "metadata": {
        "id": "EPcxtekTA1Sm"
      }
    },
    {
      "cell_type": "markdown",
      "metadata": {
        "id": "itRtFtrOf0_b"
      },
      "source": [
        "В этом домашнем задании вам предстоит построить классификатор текстов.\n",
        "\n",
        "Будем предсказывать эмоциональную окраску твиттов о коронавирусе.\n",
        "\n"
      ]
    },
    {
      "cell_type": "code",
      "execution_count": 2,
      "metadata": {
        "id": "tNGRVO7_g9mz"
      },
      "outputs": [],
      "source": [
        "import numpy as np\n",
        "import pandas as pd\n",
        "from typing import  List\n",
        "import matplotlib.pyplot as plt\n",
        "import seaborn as sns\n",
        "from string import punctuation"
      ]
    },
    {
      "cell_type": "code",
      "execution_count": 3,
      "metadata": {
        "id": "zOy8iHJQg_Ss",
        "colab": {
          "base_uri": "https://localhost:8080/",
          "height": 174
        },
        "outputId": "84c922b5-8591-4f05-83e0-eb402a7241b8"
      },
      "outputs": [
        {
          "output_type": "execute_result",
          "data": {
            "text/plain": [
              "       UserName  ScreenName           Location     TweetAt  \\\n",
              "32470     43735       88687      Charlotte, NC  13-04-2020   \n",
              "24945     34336       79288  Brussels, Belgium  06-04-2020   \n",
              "11840     18166       63118   Victoria, London  21-03-2020   \n",
              "24312     33529       78481                NaN  05-04-2020   \n",
              "\n",
              "                                           OriginalTweet           Sentiment  \n",
              "32470  Farmers are now starting to see the effects of...            Negative  \n",
              "24945  19 EPP would like to extend gratitude amp than...  Extremely Positive  \n",
              "11840  What do you do if lose your job or get sick? \\...            Positive  \n",
              "24312  Mother fuckers planned this shit #Coronavirus ...  Extremely Negative  "
            ],
            "text/html": [
              "\n",
              "  <div id=\"df-8a7f0287-c074-4b4e-a2d5-287903eed7f2\" class=\"colab-df-container\">\n",
              "    <div>\n",
              "<style scoped>\n",
              "    .dataframe tbody tr th:only-of-type {\n",
              "        vertical-align: middle;\n",
              "    }\n",
              "\n",
              "    .dataframe tbody tr th {\n",
              "        vertical-align: top;\n",
              "    }\n",
              "\n",
              "    .dataframe thead th {\n",
              "        text-align: right;\n",
              "    }\n",
              "</style>\n",
              "<table border=\"1\" class=\"dataframe\">\n",
              "  <thead>\n",
              "    <tr style=\"text-align: right;\">\n",
              "      <th></th>\n",
              "      <th>UserName</th>\n",
              "      <th>ScreenName</th>\n",
              "      <th>Location</th>\n",
              "      <th>TweetAt</th>\n",
              "      <th>OriginalTweet</th>\n",
              "      <th>Sentiment</th>\n",
              "    </tr>\n",
              "  </thead>\n",
              "  <tbody>\n",
              "    <tr>\n",
              "      <th>32470</th>\n",
              "      <td>43735</td>\n",
              "      <td>88687</td>\n",
              "      <td>Charlotte, NC</td>\n",
              "      <td>13-04-2020</td>\n",
              "      <td>Farmers are now starting to see the effects of...</td>\n",
              "      <td>Negative</td>\n",
              "    </tr>\n",
              "    <tr>\n",
              "      <th>24945</th>\n",
              "      <td>34336</td>\n",
              "      <td>79288</td>\n",
              "      <td>Brussels, Belgium</td>\n",
              "      <td>06-04-2020</td>\n",
              "      <td>19 EPP would like to extend gratitude amp than...</td>\n",
              "      <td>Extremely Positive</td>\n",
              "    </tr>\n",
              "    <tr>\n",
              "      <th>11840</th>\n",
              "      <td>18166</td>\n",
              "      <td>63118</td>\n",
              "      <td>Victoria, London</td>\n",
              "      <td>21-03-2020</td>\n",
              "      <td>What do you do if lose your job or get sick? \\...</td>\n",
              "      <td>Positive</td>\n",
              "    </tr>\n",
              "    <tr>\n",
              "      <th>24312</th>\n",
              "      <td>33529</td>\n",
              "      <td>78481</td>\n",
              "      <td>NaN</td>\n",
              "      <td>05-04-2020</td>\n",
              "      <td>Mother fuckers planned this shit #Coronavirus ...</td>\n",
              "      <td>Extremely Negative</td>\n",
              "    </tr>\n",
              "  </tbody>\n",
              "</table>\n",
              "</div>\n",
              "    <div class=\"colab-df-buttons\">\n",
              "\n",
              "  <div class=\"colab-df-container\">\n",
              "    <button class=\"colab-df-convert\" onclick=\"convertToInteractive('df-8a7f0287-c074-4b4e-a2d5-287903eed7f2')\"\n",
              "            title=\"Convert this dataframe to an interactive table.\"\n",
              "            style=\"display:none;\">\n",
              "\n",
              "  <svg xmlns=\"http://www.w3.org/2000/svg\" height=\"24px\" viewBox=\"0 -960 960 960\">\n",
              "    <path d=\"M120-120v-720h720v720H120Zm60-500h600v-160H180v160Zm220 220h160v-160H400v160Zm0 220h160v-160H400v160ZM180-400h160v-160H180v160Zm440 0h160v-160H620v160ZM180-180h160v-160H180v160Zm440 0h160v-160H620v160Z\"/>\n",
              "  </svg>\n",
              "    </button>\n",
              "\n",
              "  <style>\n",
              "    .colab-df-container {\n",
              "      display:flex;\n",
              "      gap: 12px;\n",
              "    }\n",
              "\n",
              "    .colab-df-convert {\n",
              "      background-color: #E8F0FE;\n",
              "      border: none;\n",
              "      border-radius: 50%;\n",
              "      cursor: pointer;\n",
              "      display: none;\n",
              "      fill: #1967D2;\n",
              "      height: 32px;\n",
              "      padding: 0 0 0 0;\n",
              "      width: 32px;\n",
              "    }\n",
              "\n",
              "    .colab-df-convert:hover {\n",
              "      background-color: #E2EBFA;\n",
              "      box-shadow: 0px 1px 2px rgba(60, 64, 67, 0.3), 0px 1px 3px 1px rgba(60, 64, 67, 0.15);\n",
              "      fill: #174EA6;\n",
              "    }\n",
              "\n",
              "    .colab-df-buttons div {\n",
              "      margin-bottom: 4px;\n",
              "    }\n",
              "\n",
              "    [theme=dark] .colab-df-convert {\n",
              "      background-color: #3B4455;\n",
              "      fill: #D2E3FC;\n",
              "    }\n",
              "\n",
              "    [theme=dark] .colab-df-convert:hover {\n",
              "      background-color: #434B5C;\n",
              "      box-shadow: 0px 1px 3px 1px rgba(0, 0, 0, 0.15);\n",
              "      filter: drop-shadow(0px 1px 2px rgba(0, 0, 0, 0.3));\n",
              "      fill: #FFFFFF;\n",
              "    }\n",
              "  </style>\n",
              "\n",
              "    <script>\n",
              "      const buttonEl =\n",
              "        document.querySelector('#df-8a7f0287-c074-4b4e-a2d5-287903eed7f2 button.colab-df-convert');\n",
              "      buttonEl.style.display =\n",
              "        google.colab.kernel.accessAllowed ? 'block' : 'none';\n",
              "\n",
              "      async function convertToInteractive(key) {\n",
              "        const element = document.querySelector('#df-8a7f0287-c074-4b4e-a2d5-287903eed7f2');\n",
              "        const dataTable =\n",
              "          await google.colab.kernel.invokeFunction('convertToInteractive',\n",
              "                                                    [key], {});\n",
              "        if (!dataTable) return;\n",
              "\n",
              "        const docLinkHtml = 'Like what you see? Visit the ' +\n",
              "          '<a target=\"_blank\" href=https://colab.research.google.com/notebooks/data_table.ipynb>data table notebook</a>'\n",
              "          + ' to learn more about interactive tables.';\n",
              "        element.innerHTML = '';\n",
              "        dataTable['output_type'] = 'display_data';\n",
              "        await google.colab.output.renderOutput(dataTable, element);\n",
              "        const docLink = document.createElement('div');\n",
              "        docLink.innerHTML = docLinkHtml;\n",
              "        element.appendChild(docLink);\n",
              "      }\n",
              "    </script>\n",
              "  </div>\n",
              "\n",
              "\n",
              "<div id=\"df-a2ea5c6b-c7d6-4505-b153-5f55b73e8de4\">\n",
              "  <button class=\"colab-df-quickchart\" onclick=\"quickchart('df-a2ea5c6b-c7d6-4505-b153-5f55b73e8de4')\"\n",
              "            title=\"Suggest charts\"\n",
              "            style=\"display:none;\">\n",
              "\n",
              "<svg xmlns=\"http://www.w3.org/2000/svg\" height=\"24px\"viewBox=\"0 0 24 24\"\n",
              "     width=\"24px\">\n",
              "    <g>\n",
              "        <path d=\"M19 3H5c-1.1 0-2 .9-2 2v14c0 1.1.9 2 2 2h14c1.1 0 2-.9 2-2V5c0-1.1-.9-2-2-2zM9 17H7v-7h2v7zm4 0h-2V7h2v10zm4 0h-2v-4h2v4z\"/>\n",
              "    </g>\n",
              "</svg>\n",
              "  </button>\n",
              "\n",
              "<style>\n",
              "  .colab-df-quickchart {\n",
              "      --bg-color: #E8F0FE;\n",
              "      --fill-color: #1967D2;\n",
              "      --hover-bg-color: #E2EBFA;\n",
              "      --hover-fill-color: #174EA6;\n",
              "      --disabled-fill-color: #AAA;\n",
              "      --disabled-bg-color: #DDD;\n",
              "  }\n",
              "\n",
              "  [theme=dark] .colab-df-quickchart {\n",
              "      --bg-color: #3B4455;\n",
              "      --fill-color: #D2E3FC;\n",
              "      --hover-bg-color: #434B5C;\n",
              "      --hover-fill-color: #FFFFFF;\n",
              "      --disabled-bg-color: #3B4455;\n",
              "      --disabled-fill-color: #666;\n",
              "  }\n",
              "\n",
              "  .colab-df-quickchart {\n",
              "    background-color: var(--bg-color);\n",
              "    border: none;\n",
              "    border-radius: 50%;\n",
              "    cursor: pointer;\n",
              "    display: none;\n",
              "    fill: var(--fill-color);\n",
              "    height: 32px;\n",
              "    padding: 0;\n",
              "    width: 32px;\n",
              "  }\n",
              "\n",
              "  .colab-df-quickchart:hover {\n",
              "    background-color: var(--hover-bg-color);\n",
              "    box-shadow: 0 1px 2px rgba(60, 64, 67, 0.3), 0 1px 3px 1px rgba(60, 64, 67, 0.15);\n",
              "    fill: var(--button-hover-fill-color);\n",
              "  }\n",
              "\n",
              "  .colab-df-quickchart-complete:disabled,\n",
              "  .colab-df-quickchart-complete:disabled:hover {\n",
              "    background-color: var(--disabled-bg-color);\n",
              "    fill: var(--disabled-fill-color);\n",
              "    box-shadow: none;\n",
              "  }\n",
              "\n",
              "  .colab-df-spinner {\n",
              "    border: 2px solid var(--fill-color);\n",
              "    border-color: transparent;\n",
              "    border-bottom-color: var(--fill-color);\n",
              "    animation:\n",
              "      spin 1s steps(1) infinite;\n",
              "  }\n",
              "\n",
              "  @keyframes spin {\n",
              "    0% {\n",
              "      border-color: transparent;\n",
              "      border-bottom-color: var(--fill-color);\n",
              "      border-left-color: var(--fill-color);\n",
              "    }\n",
              "    20% {\n",
              "      border-color: transparent;\n",
              "      border-left-color: var(--fill-color);\n",
              "      border-top-color: var(--fill-color);\n",
              "    }\n",
              "    30% {\n",
              "      border-color: transparent;\n",
              "      border-left-color: var(--fill-color);\n",
              "      border-top-color: var(--fill-color);\n",
              "      border-right-color: var(--fill-color);\n",
              "    }\n",
              "    40% {\n",
              "      border-color: transparent;\n",
              "      border-right-color: var(--fill-color);\n",
              "      border-top-color: var(--fill-color);\n",
              "    }\n",
              "    60% {\n",
              "      border-color: transparent;\n",
              "      border-right-color: var(--fill-color);\n",
              "    }\n",
              "    80% {\n",
              "      border-color: transparent;\n",
              "      border-right-color: var(--fill-color);\n",
              "      border-bottom-color: var(--fill-color);\n",
              "    }\n",
              "    90% {\n",
              "      border-color: transparent;\n",
              "      border-bottom-color: var(--fill-color);\n",
              "    }\n",
              "  }\n",
              "</style>\n",
              "\n",
              "  <script>\n",
              "    async function quickchart(key) {\n",
              "      const quickchartButtonEl =\n",
              "        document.querySelector('#' + key + ' button');\n",
              "      quickchartButtonEl.disabled = true;  // To prevent multiple clicks.\n",
              "      quickchartButtonEl.classList.add('colab-df-spinner');\n",
              "      try {\n",
              "        const charts = await google.colab.kernel.invokeFunction(\n",
              "            'suggestCharts', [key], {});\n",
              "      } catch (error) {\n",
              "        console.error('Error during call to suggestCharts:', error);\n",
              "      }\n",
              "      quickchartButtonEl.classList.remove('colab-df-spinner');\n",
              "      quickchartButtonEl.classList.add('colab-df-quickchart-complete');\n",
              "    }\n",
              "    (() => {\n",
              "      let quickchartButtonEl =\n",
              "        document.querySelector('#df-a2ea5c6b-c7d6-4505-b153-5f55b73e8de4 button');\n",
              "      quickchartButtonEl.style.display =\n",
              "        google.colab.kernel.accessAllowed ? 'block' : 'none';\n",
              "    })();\n",
              "  </script>\n",
              "</div>\n",
              "    </div>\n",
              "  </div>\n"
            ],
            "application/vnd.google.colaboratory.intrinsic+json": {
              "type": "dataframe",
              "repr_error": "0"
            }
          },
          "metadata": {},
          "execution_count": 3
        }
      ],
      "source": [
        "df = pd.read_csv('/content/tweets_coronavirus.csv', encoding='latin-1')\n",
        "df.sample(4)"
      ]
    },
    {
      "cell_type": "markdown",
      "metadata": {
        "id": "m2OiDog9ZBlS"
      },
      "source": [
        "Для каждого твитта указано:\n",
        "\n",
        "\n",
        "*   UserName - имя пользователя, заменено на целое число для анонимности\n",
        "*   ScreenName - отображающееся имя пользователя, заменено на целое число для анонимности\n",
        "*   Location - местоположение\n",
        "*   TweetAt - дата создания твитта\n",
        "*   OriginalTweet - текст твитта\n",
        "*   Sentiment - эмоциональная окраска твитта (целевая переменная)\n",
        "\n"
      ]
    },
    {
      "cell_type": "markdown",
      "metadata": {
        "id": "pZTMseDkhTC7"
      },
      "source": [
        "## Задание 1 Подготовка (0.5 балла)"
      ]
    },
    {
      "cell_type": "markdown",
      "metadata": {
        "id": "Xx2-odn9hdAW"
      },
      "source": [
        "Целевая переменная находится в колонке `Sentiment`.  Преобразуйте ее таким образом, чтобы она стала бинарной: 1 - если у твитта положительная эмоциональная окраска и 0 - если отрицательная."
      ]
    },
    {
      "cell_type": "code",
      "execution_count": 4,
      "metadata": {
        "id": "ZaQKQ1zEjP15"
      },
      "outputs": [],
      "source": [
        "df['Sentiment'] = df['Sentiment'].apply(lambda x: 1 if x == \"Positive\" or x == \"Extremely Positive\" else 0)"
      ]
    },
    {
      "cell_type": "markdown",
      "metadata": {
        "id": "pGq1FxJ-kBo5"
      },
      "source": [
        "Сбалансированы ли классы?"
      ]
    },
    {
      "cell_type": "code",
      "execution_count": 5,
      "metadata": {
        "id": "a7gdNtxckK5V"
      },
      "outputs": [],
      "source": [
        "def is_balanced(df, column):\n",
        "  max_observations = max(df[column].value_counts())\n",
        "  min_observations = min(df[column].value_counts())\n",
        "  diff = round((max_observations - min_observations) / max_observations * 100)\n",
        "  print(f\"Difference between the largest and smallest categories: {diff}%\")\n",
        "  return diff <= 30\n"
      ]
    },
    {
      "cell_type": "code",
      "source": [
        "is_balanced(df, 'Sentiment')"
      ],
      "metadata": {
        "colab": {
          "base_uri": "https://localhost:8080/"
        },
        "id": "CXBmAYNRwweN",
        "outputId": "ddaf5f75-e33c-4590-c635-84b03804f230"
      },
      "execution_count": 6,
      "outputs": [
        {
          "output_type": "stream",
          "name": "stdout",
          "text": [
            "Difference between the largest and smallest categories: 15%\n"
          ]
        },
        {
          "output_type": "execute_result",
          "data": {
            "text/plain": [
              "True"
            ]
          },
          "metadata": {},
          "execution_count": 6
        }
      ]
    },
    {
      "cell_type": "markdown",
      "metadata": {
        "id": "Ng8BCelMkWb0"
      },
      "source": [
        "**Ответ:** Классы сбалансированны"
      ]
    },
    {
      "cell_type": "markdown",
      "metadata": {
        "id": "qmSIBSsLk5Zz"
      },
      "source": [
        "Выведете на экран информацию о пропусках в данных. Если пропуски присутствуют заполните их строкой 'Unknown'."
      ]
    },
    {
      "cell_type": "code",
      "execution_count": 7,
      "metadata": {
        "id": "UhUVRkR5kxa7",
        "colab": {
          "base_uri": "https://localhost:8080/",
          "height": 237
        },
        "outputId": "8144a7fc-3459-4899-8064-35a4d4f5313d"
      },
      "outputs": [
        {
          "output_type": "execute_result",
          "data": {
            "text/plain": [
              "               Number of null values in test\n",
              "UserName                                   0\n",
              "ScreenName                                 0\n",
              "Location                                7049\n",
              "TweetAt                                    0\n",
              "OriginalTweet                              0\n",
              "Sentiment                                  0"
            ],
            "text/html": [
              "\n",
              "  <div id=\"df-5336f14d-d0a8-450c-839f-b7d41b548906\" class=\"colab-df-container\">\n",
              "    <div>\n",
              "<style scoped>\n",
              "    .dataframe tbody tr th:only-of-type {\n",
              "        vertical-align: middle;\n",
              "    }\n",
              "\n",
              "    .dataframe tbody tr th {\n",
              "        vertical-align: top;\n",
              "    }\n",
              "\n",
              "    .dataframe thead th {\n",
              "        text-align: right;\n",
              "    }\n",
              "</style>\n",
              "<table border=\"1\" class=\"dataframe\">\n",
              "  <thead>\n",
              "    <tr style=\"text-align: right;\">\n",
              "      <th></th>\n",
              "      <th>Number of null values in test</th>\n",
              "    </tr>\n",
              "  </thead>\n",
              "  <tbody>\n",
              "    <tr>\n",
              "      <th>UserName</th>\n",
              "      <td>0</td>\n",
              "    </tr>\n",
              "    <tr>\n",
              "      <th>ScreenName</th>\n",
              "      <td>0</td>\n",
              "    </tr>\n",
              "    <tr>\n",
              "      <th>Location</th>\n",
              "      <td>7049</td>\n",
              "    </tr>\n",
              "    <tr>\n",
              "      <th>TweetAt</th>\n",
              "      <td>0</td>\n",
              "    </tr>\n",
              "    <tr>\n",
              "      <th>OriginalTweet</th>\n",
              "      <td>0</td>\n",
              "    </tr>\n",
              "    <tr>\n",
              "      <th>Sentiment</th>\n",
              "      <td>0</td>\n",
              "    </tr>\n",
              "  </tbody>\n",
              "</table>\n",
              "</div>\n",
              "    <div class=\"colab-df-buttons\">\n",
              "\n",
              "  <div class=\"colab-df-container\">\n",
              "    <button class=\"colab-df-convert\" onclick=\"convertToInteractive('df-5336f14d-d0a8-450c-839f-b7d41b548906')\"\n",
              "            title=\"Convert this dataframe to an interactive table.\"\n",
              "            style=\"display:none;\">\n",
              "\n",
              "  <svg xmlns=\"http://www.w3.org/2000/svg\" height=\"24px\" viewBox=\"0 -960 960 960\">\n",
              "    <path d=\"M120-120v-720h720v720H120Zm60-500h600v-160H180v160Zm220 220h160v-160H400v160Zm0 220h160v-160H400v160ZM180-400h160v-160H180v160Zm440 0h160v-160H620v160ZM180-180h160v-160H180v160Zm440 0h160v-160H620v160Z\"/>\n",
              "  </svg>\n",
              "    </button>\n",
              "\n",
              "  <style>\n",
              "    .colab-df-container {\n",
              "      display:flex;\n",
              "      gap: 12px;\n",
              "    }\n",
              "\n",
              "    .colab-df-convert {\n",
              "      background-color: #E8F0FE;\n",
              "      border: none;\n",
              "      border-radius: 50%;\n",
              "      cursor: pointer;\n",
              "      display: none;\n",
              "      fill: #1967D2;\n",
              "      height: 32px;\n",
              "      padding: 0 0 0 0;\n",
              "      width: 32px;\n",
              "    }\n",
              "\n",
              "    .colab-df-convert:hover {\n",
              "      background-color: #E2EBFA;\n",
              "      box-shadow: 0px 1px 2px rgba(60, 64, 67, 0.3), 0px 1px 3px 1px rgba(60, 64, 67, 0.15);\n",
              "      fill: #174EA6;\n",
              "    }\n",
              "\n",
              "    .colab-df-buttons div {\n",
              "      margin-bottom: 4px;\n",
              "    }\n",
              "\n",
              "    [theme=dark] .colab-df-convert {\n",
              "      background-color: #3B4455;\n",
              "      fill: #D2E3FC;\n",
              "    }\n",
              "\n",
              "    [theme=dark] .colab-df-convert:hover {\n",
              "      background-color: #434B5C;\n",
              "      box-shadow: 0px 1px 3px 1px rgba(0, 0, 0, 0.15);\n",
              "      filter: drop-shadow(0px 1px 2px rgba(0, 0, 0, 0.3));\n",
              "      fill: #FFFFFF;\n",
              "    }\n",
              "  </style>\n",
              "\n",
              "    <script>\n",
              "      const buttonEl =\n",
              "        document.querySelector('#df-5336f14d-d0a8-450c-839f-b7d41b548906 button.colab-df-convert');\n",
              "      buttonEl.style.display =\n",
              "        google.colab.kernel.accessAllowed ? 'block' : 'none';\n",
              "\n",
              "      async function convertToInteractive(key) {\n",
              "        const element = document.querySelector('#df-5336f14d-d0a8-450c-839f-b7d41b548906');\n",
              "        const dataTable =\n",
              "          await google.colab.kernel.invokeFunction('convertToInteractive',\n",
              "                                                    [key], {});\n",
              "        if (!dataTable) return;\n",
              "\n",
              "        const docLinkHtml = 'Like what you see? Visit the ' +\n",
              "          '<a target=\"_blank\" href=https://colab.research.google.com/notebooks/data_table.ipynb>data table notebook</a>'\n",
              "          + ' to learn more about interactive tables.';\n",
              "        element.innerHTML = '';\n",
              "        dataTable['output_type'] = 'display_data';\n",
              "        await google.colab.output.renderOutput(dataTable, element);\n",
              "        const docLink = document.createElement('div');\n",
              "        docLink.innerHTML = docLinkHtml;\n",
              "        element.appendChild(docLink);\n",
              "      }\n",
              "    </script>\n",
              "  </div>\n",
              "\n",
              "\n",
              "<div id=\"df-0f05c5dc-45fa-4de1-8567-118cb975a06d\">\n",
              "  <button class=\"colab-df-quickchart\" onclick=\"quickchart('df-0f05c5dc-45fa-4de1-8567-118cb975a06d')\"\n",
              "            title=\"Suggest charts\"\n",
              "            style=\"display:none;\">\n",
              "\n",
              "<svg xmlns=\"http://www.w3.org/2000/svg\" height=\"24px\"viewBox=\"0 0 24 24\"\n",
              "     width=\"24px\">\n",
              "    <g>\n",
              "        <path d=\"M19 3H5c-1.1 0-2 .9-2 2v14c0 1.1.9 2 2 2h14c1.1 0 2-.9 2-2V5c0-1.1-.9-2-2-2zM9 17H7v-7h2v7zm4 0h-2V7h2v10zm4 0h-2v-4h2v4z\"/>\n",
              "    </g>\n",
              "</svg>\n",
              "  </button>\n",
              "\n",
              "<style>\n",
              "  .colab-df-quickchart {\n",
              "      --bg-color: #E8F0FE;\n",
              "      --fill-color: #1967D2;\n",
              "      --hover-bg-color: #E2EBFA;\n",
              "      --hover-fill-color: #174EA6;\n",
              "      --disabled-fill-color: #AAA;\n",
              "      --disabled-bg-color: #DDD;\n",
              "  }\n",
              "\n",
              "  [theme=dark] .colab-df-quickchart {\n",
              "      --bg-color: #3B4455;\n",
              "      --fill-color: #D2E3FC;\n",
              "      --hover-bg-color: #434B5C;\n",
              "      --hover-fill-color: #FFFFFF;\n",
              "      --disabled-bg-color: #3B4455;\n",
              "      --disabled-fill-color: #666;\n",
              "  }\n",
              "\n",
              "  .colab-df-quickchart {\n",
              "    background-color: var(--bg-color);\n",
              "    border: none;\n",
              "    border-radius: 50%;\n",
              "    cursor: pointer;\n",
              "    display: none;\n",
              "    fill: var(--fill-color);\n",
              "    height: 32px;\n",
              "    padding: 0;\n",
              "    width: 32px;\n",
              "  }\n",
              "\n",
              "  .colab-df-quickchart:hover {\n",
              "    background-color: var(--hover-bg-color);\n",
              "    box-shadow: 0 1px 2px rgba(60, 64, 67, 0.3), 0 1px 3px 1px rgba(60, 64, 67, 0.15);\n",
              "    fill: var(--button-hover-fill-color);\n",
              "  }\n",
              "\n",
              "  .colab-df-quickchart-complete:disabled,\n",
              "  .colab-df-quickchart-complete:disabled:hover {\n",
              "    background-color: var(--disabled-bg-color);\n",
              "    fill: var(--disabled-fill-color);\n",
              "    box-shadow: none;\n",
              "  }\n",
              "\n",
              "  .colab-df-spinner {\n",
              "    border: 2px solid var(--fill-color);\n",
              "    border-color: transparent;\n",
              "    border-bottom-color: var(--fill-color);\n",
              "    animation:\n",
              "      spin 1s steps(1) infinite;\n",
              "  }\n",
              "\n",
              "  @keyframes spin {\n",
              "    0% {\n",
              "      border-color: transparent;\n",
              "      border-bottom-color: var(--fill-color);\n",
              "      border-left-color: var(--fill-color);\n",
              "    }\n",
              "    20% {\n",
              "      border-color: transparent;\n",
              "      border-left-color: var(--fill-color);\n",
              "      border-top-color: var(--fill-color);\n",
              "    }\n",
              "    30% {\n",
              "      border-color: transparent;\n",
              "      border-left-color: var(--fill-color);\n",
              "      border-top-color: var(--fill-color);\n",
              "      border-right-color: var(--fill-color);\n",
              "    }\n",
              "    40% {\n",
              "      border-color: transparent;\n",
              "      border-right-color: var(--fill-color);\n",
              "      border-top-color: var(--fill-color);\n",
              "    }\n",
              "    60% {\n",
              "      border-color: transparent;\n",
              "      border-right-color: var(--fill-color);\n",
              "    }\n",
              "    80% {\n",
              "      border-color: transparent;\n",
              "      border-right-color: var(--fill-color);\n",
              "      border-bottom-color: var(--fill-color);\n",
              "    }\n",
              "    90% {\n",
              "      border-color: transparent;\n",
              "      border-bottom-color: var(--fill-color);\n",
              "    }\n",
              "  }\n",
              "</style>\n",
              "\n",
              "  <script>\n",
              "    async function quickchart(key) {\n",
              "      const quickchartButtonEl =\n",
              "        document.querySelector('#' + key + ' button');\n",
              "      quickchartButtonEl.disabled = true;  // To prevent multiple clicks.\n",
              "      quickchartButtonEl.classList.add('colab-df-spinner');\n",
              "      try {\n",
              "        const charts = await google.colab.kernel.invokeFunction(\n",
              "            'suggestCharts', [key], {});\n",
              "      } catch (error) {\n",
              "        console.error('Error during call to suggestCharts:', error);\n",
              "      }\n",
              "      quickchartButtonEl.classList.remove('colab-df-spinner');\n",
              "      quickchartButtonEl.classList.add('colab-df-quickchart-complete');\n",
              "    }\n",
              "    (() => {\n",
              "      let quickchartButtonEl =\n",
              "        document.querySelector('#df-0f05c5dc-45fa-4de1-8567-118cb975a06d button');\n",
              "      quickchartButtonEl.style.display =\n",
              "        google.colab.kernel.accessAllowed ? 'block' : 'none';\n",
              "    })();\n",
              "  </script>\n",
              "</div>\n",
              "    </div>\n",
              "  </div>\n"
            ],
            "application/vnd.google.colaboratory.intrinsic+json": {
              "type": "dataframe",
              "summary": "{\n  \"name\": \"df\",\n  \"rows\": 6,\n  \"fields\": [\n    {\n      \"column\": \"Number of null values in test\",\n      \"properties\": {\n        \"dtype\": \"number\",\n        \"std\": 2877,\n        \"min\": 0,\n        \"max\": 7049,\n        \"num_unique_values\": 2,\n        \"samples\": [\n          7049,\n          0\n        ],\n        \"semantic_type\": \"\",\n        \"description\": \"\"\n      }\n    }\n  ]\n}"
            }
          },
          "metadata": {},
          "execution_count": 7
        }
      ],
      "source": [
        "df.isna().sum().to_frame(\"Number of null values in test\")"
      ]
    },
    {
      "cell_type": "code",
      "source": [
        "df['Location'] = df['Location'].fillna(\"Unknown\")"
      ],
      "metadata": {
        "id": "IAT_m1fuyjNC"
      },
      "execution_count": 8,
      "outputs": []
    },
    {
      "cell_type": "markdown",
      "metadata": {
        "id": "1tzt27tfjUpq"
      },
      "source": [
        "Разделите данные на обучающие и тестовые в соотношении 7 : 3 и `random_state=0`"
      ]
    },
    {
      "cell_type": "code",
      "source": [
        "X = df.drop('Sentiment', axis=1)\n",
        "y = df['Sentiment']"
      ],
      "metadata": {
        "id": "kYji-jyfz8kT"
      },
      "execution_count": 9,
      "outputs": []
    },
    {
      "cell_type": "code",
      "execution_count": 10,
      "metadata": {
        "id": "xSLOA9tIj9Z6"
      },
      "outputs": [],
      "source": [
        "from sklearn.model_selection import train_test_split\n",
        "\n",
        "X_train, X_test, y_train, y_test = train_test_split(X, y, test_size=0.3, random_state=0)\n",
        "\n",
        "train = pd.concat([X_train, y_train], axis=1)\n",
        "test = pd.concat([X_test, y_test], axis=1)\n"
      ]
    },
    {
      "cell_type": "markdown",
      "metadata": {
        "id": "J9RrPUsJlL60"
      },
      "source": [
        "## Задание 2 Токенизация (3 балла)"
      ]
    },
    {
      "cell_type": "markdown",
      "metadata": {
        "id": "2Dz_b7Xopc_R"
      },
      "source": [
        "Постройте словарь на основе обучающей выборки и посчитайте количество встреч каждого токена с использованием самой простой токенизации - деления текстов по пробельным символам и приведение токенов в нижний регистр"
      ]
    },
    {
      "cell_type": "code",
      "execution_count": 11,
      "metadata": {
        "id": "SFr67WOJphny"
      },
      "outputs": [],
      "source": [
        "from collections import Counter\n",
        "all_tokens = ' '.join(X_train['OriginalTweet']).lower().split()\n",
        "token_counts = Counter(all_tokens)\n",
        "\n",
        "token_counts_dict = dict(token_counts)\n"
      ]
    },
    {
      "cell_type": "markdown",
      "metadata": {
        "id": "Pe0h2Jqkpnao"
      },
      "source": [
        "Какой размер словаря получился?"
      ]
    },
    {
      "cell_type": "code",
      "execution_count": 12,
      "metadata": {
        "id": "umyENA7EpokD",
        "colab": {
          "base_uri": "https://localhost:8080/"
        },
        "outputId": "b0e87f71-5388-44ab-bc20-4e5854dff223"
      },
      "outputs": [
        {
          "output_type": "execute_result",
          "data": {
            "text/plain": [
              "79755"
            ]
          },
          "metadata": {},
          "execution_count": 12
        }
      ],
      "source": [
        "len(token_counts_dict)"
      ]
    },
    {
      "cell_type": "markdown",
      "metadata": {
        "id": "0d2G1Z-Qpqkd"
      },
      "source": [
        "Выведите 10 самых популярных токенов с количеством встреч каждого из них. Объясните, почему именно эти токены в топе"
      ]
    },
    {
      "cell_type": "code",
      "execution_count": 13,
      "metadata": {
        "id": "Impi32a_pssg",
        "colab": {
          "base_uri": "https://localhost:8080/"
        },
        "outputId": "5893c922-0740-4b88-ee23-3018339aa880"
      },
      "outputs": [
        {
          "output_type": "stream",
          "name": "stdout",
          "text": [
            "the: 26815\n",
            "to: 23373\n",
            "and: 14684\n",
            "of: 13012\n",
            "a: 11737\n",
            "in: 11198\n",
            "for: 8566\n",
            "#coronavirus: 8223\n",
            "is: 7383\n",
            "are: 7050\n"
          ]
        }
      ],
      "source": [
        "for word, count in Counter(token_counts_dict).most_common(10):\n",
        "    print(f'{word}: {count}')\n"
      ]
    },
    {
      "cell_type": "markdown",
      "metadata": {
        "id": "ZtuJCD0ApuFd"
      },
      "source": [
        "**Ответ:** большую часть топа составляют предлоги и артикли (такие как the и of), это обусловлено особенностью английской грамматики. Также в топе есть хэштег - #coronavirus, потому что данный датасет описывает твиты про коронавирус"
      ]
    },
    {
      "cell_type": "markdown",
      "metadata": {
        "id": "T7DTQDkWsVYp"
      },
      "source": [
        "Удалите стоп-слова из словаря и выведите новый топ-10 токенов (и количество встреч) по популярности.  Что можно сказать  о нем?"
      ]
    },
    {
      "cell_type": "code",
      "execution_count": 14,
      "metadata": {
        "id": "8csSAdgTsnFx",
        "colab": {
          "base_uri": "https://localhost:8080/"
        },
        "outputId": "07b139ef-e1d4-48d9-e078-3aacc758a223"
      },
      "outputs": [
        {
          "output_type": "stream",
          "name": "stderr",
          "text": [
            "[nltk_data] Downloading package stopwords to /root/nltk_data...\n",
            "[nltk_data]   Unzipping corpora/stopwords.zip.\n"
          ]
        },
        {
          "output_type": "stream",
          "name": "stdout",
          "text": [
            "#coronavirus: 8223\n",
            "prices: 3891\n",
            "food: 3820\n",
            "grocery: 3469\n",
            "supermarket: 3288\n",
            "people: 3175\n",
            "covid-19: 3173\n",
            "store: 3155\n",
            "#covid19: 2471\n",
            "&amp;: 2314\n"
          ]
        }
      ],
      "source": [
        "import nltk\n",
        "from nltk.corpus import stopwords\n",
        "from collections import Counter\n",
        "\n",
        "nltk.download('stopwords')\n",
        "\n",
        "stop_words = set(stopwords.words('english'))\n",
        "filtered_token_counts = {token: count for token, count in token_counts_dict.items() if token not in stop_words}\n",
        "\n",
        "\n",
        "for word, count in Counter(filtered_token_counts).most_common(10):\n",
        "    print(f'{word}: {count}')\n",
        "\n",
        "\n"
      ]
    },
    {
      "cell_type": "markdown",
      "metadata": {
        "id": "LZH0x2Lzs-Dh"
      },
      "source": [
        "**Ответ:**  топ содержит несколько упоминаний коронавируса в различных формах, а также слов, тесно связанных с тематикой коронавируса"
      ]
    },
    {
      "cell_type": "markdown",
      "metadata": {
        "id": "TKSGRyI-uor0"
      },
      "source": [
        "Также выведите 20 самых непопулярных слов (если самых непопулярных слов больше выведите любые 20 из них) Почему эти токены непопулярны, требуется ли как-то дополнительно работать с ними?"
      ]
    },
    {
      "cell_type": "code",
      "execution_count": 15,
      "metadata": {
        "id": "moArbwfvun9t",
        "colab": {
          "base_uri": "https://localhost:8080/"
        },
        "outputId": "5eacb7c0-274c-489f-b765-1f6a88dee7be"
      },
      "outputs": [
        {
          "output_type": "stream",
          "name": "stdout",
          "text": [
            "https://t.co/7j2y3rsld9: 1\n",
            "@680news: 1\n",
            "@torontopearson: 1\n",
            "nothing...: 1\n",
            "flew: 1\n",
            "wage!: 1\n",
            "renewing: 1\n",
            "playersãâ: 1\n",
            "subsidise: 1\n",
            "non-playing: 1\n",
            "premiership: 1\n",
            "https://t.co/iaek4fwsgz: 1\n",
            "@srinivasiyc: 1\n",
            "https://t.co/zjcl195vqs: 1\n",
            "#southkerry: 1\n",
            "#skelligcoast2kms: 1\n",
            "@skelligsix18: 1\n",
            "closer!): 1\n",
            "coast!: 1\n",
            "skellig: 1\n"
          ]
        }
      ],
      "source": [
        "for word, count in Counter(filtered_token_counts).most_common()[:-21:-1]:\n",
        "    print(f'{word}: {count}')"
      ]
    },
    {
      "cell_type": "markdown",
      "metadata": {
        "id": "uRp3J1gQunlR"
      },
      "source": [
        "**Ответ:** самые непопулярные слова представляют из себя ссылки, теги, слова со специальными символами, а также специфичную редко встречающуюся лексику (subsidise)\n",
        "\n"
      ]
    },
    {
      "cell_type": "markdown",
      "metadata": {
        "id": "wx9LQOSPzvjV"
      },
      "source": [
        "Теперь воспользуемся токенайзером получше - TweetTokenizer из библиотеки nltk. Примените его и посмотрите на топ-10 популярных слов. Чем он отличается от топа, который получался раньше? Почему?"
      ]
    },
    {
      "cell_type": "code",
      "execution_count": 16,
      "metadata": {
        "id": "2G1UkyVxzvFY",
        "colab": {
          "base_uri": "https://localhost:8080/"
        },
        "outputId": "1bda1319-2d6d-44b3-ccf8-3857c32ed389"
      },
      "outputs": [
        {
          "output_type": "stream",
          "name": "stdout",
          "text": [
            "the: 26993\n",
            ".: 24118\n",
            "to: 23478\n",
            ",: 17571\n",
            "and: 14825\n",
            "of: 13044\n",
            "a: 11891\n",
            "in: 11348\n",
            "?: 9524\n",
            "#coronavirus: 8808\n"
          ]
        }
      ],
      "source": [
        "from nltk.tokenize import TweetTokenizer\n",
        "\n",
        "tokenizer = TweetTokenizer()\n",
        "tokens = [token.lower() for tweet in X_train['OriginalTweet'] for token in tokenizer.tokenize(tweet)]\n",
        "\n",
        "token_counts = Counter(tokens)\n",
        "\n",
        "popular_tokens = Counter(token_counts).most_common(10)\n",
        "\n",
        "for word, count in popular_tokens:\n",
        "    print(f'{word}: {count}')\n",
        "\n"
      ]
    },
    {
      "cell_type": "markdown",
      "metadata": {
        "id": "50eVUnJN1Zxl"
      },
      "source": [
        "**Ответ:** теперь среди токенов появились знаки пунктуации"
      ]
    },
    {
      "cell_type": "markdown",
      "metadata": {
        "id": "1gqQgiMs11bs"
      },
      "source": [
        "Удалите из словаря стоп-слова и пунктуацию, посмотрите на новый топ-10 слов с количеством встреч, есть ли теперь в нем что-то не похожее на слова?"
      ]
    },
    {
      "cell_type": "code",
      "execution_count": 17,
      "metadata": {
        "id": "0yHWdFrp0Mup",
        "colab": {
          "base_uri": "https://localhost:8080/"
        },
        "outputId": "78e21a3e-94de-4c40-f4b1-be855ceda44a"
      },
      "outputs": [
        {
          "output_type": "stream",
          "name": "stdout",
          "text": [
            "#coronavirus: 8808\n",
            "â: 7415\n",
            ": 7311\n",
            "19: 7167\n",
            "covid: 6253\n",
            "prices: 4601\n",
            ": 4372\n",
            "food: 4367\n",
            "store: 3877\n",
            "supermarket: 3805\n"
          ]
        }
      ],
      "source": [
        "from string import punctuation\n",
        "from nltk.tokenize import TweetTokenizer\n",
        "from nltk.corpus import stopwords\n",
        "\n",
        "tokenizer = TweetTokenizer()\n",
        "\n",
        "stop_words = set(stopwords.words('english'))\n",
        "punctuation_symbols = set(punctuation)\n",
        "\n",
        "\n",
        "all_tokens = [token.lower() for tweet in X_train['OriginalTweet'] for token in tokenizer.tokenize(tweet)\n",
        "              if token.lower() not in stop_words and token.lower() not in punctuation_symbols]\n",
        "\n",
        "token_counts = Counter(all_tokens)\n",
        "popular_tokens = Counter(token_counts).most_common(10)\n",
        "\n",
        "for word, count in popular_tokens:\n",
        "    print(f'{word}: {count}')\n"
      ]
    },
    {
      "cell_type": "markdown",
      "metadata": {
        "id": "8ZJqXELP_Yxy"
      },
      "source": [
        "**Ответ:** в топе токенов есть служебные символы и числа наряду с популярными словами"
      ]
    },
    {
      "cell_type": "markdown",
      "metadata": {
        "id": "rzXjMsSB_kXB"
      },
      "source": [
        "Удалите из словаря токены из одного символа, с позицией в таблице Unicode 128 и более (`ord(x) >= 128`)\n",
        "\n",
        "Выведите топ-10 самых популярных и топ-20 непопулярных слов. Чем полученные топы отличаются от итоговых топов, полученных при использовании токенизации по пробелам? Что теперь лучше, а что хуже?"
      ]
    },
    {
      "cell_type": "code",
      "execution_count": 18,
      "metadata": {
        "id": "1695hlkS_1-J"
      },
      "outputs": [],
      "source": [
        "token_counts = dict(token_counts)\n",
        "\n",
        "filtered_token_counts = {token: count for token, count in token_counts.items() if not(len(token) == 1 and ord(token) >= 1)}"
      ]
    },
    {
      "cell_type": "code",
      "source": [
        "popular_tokens = Counter(filtered_token_counts).most_common(10)\n",
        "\n",
        "for word, count in popular_tokens:\n",
        "    print(f'{word}: {count}')"
      ],
      "metadata": {
        "colab": {
          "base_uri": "https://localhost:8080/"
        },
        "id": "iUc3hh-DEQPV",
        "outputId": "c98d7ce6-6a44-411d-b7be-346088a3a081"
      },
      "execution_count": 19,
      "outputs": [
        {
          "output_type": "stream",
          "name": "stdout",
          "text": [
            "#coronavirus: 8808\n",
            "19: 7167\n",
            "covid: 6253\n",
            "prices: 4601\n",
            "food: 4367\n",
            "store: 3877\n",
            "supermarket: 3805\n",
            "grocery: 3523\n",
            "people: 3463\n",
            "#covid19: 2589\n"
          ]
        }
      ]
    },
    {
      "cell_type": "markdown",
      "metadata": {
        "id": "KzjHAKIlDvc6"
      },
      "source": [
        "**Ответ:** в полученном топе больше нет значений типа &amp;, а также новая токенизация лучше обрабатывает пунктуацию, поэтому одно и то же слово, после которого идут разные знаки пунктуации теперь обрабатывается как один и тот же токен, но при этом одиним из самых популярных токенов стало число 19, которое само по себе не несёт определённого смысла и популярно лишь потом что содержалось в слове covid-19"
      ]
    },
    {
      "cell_type": "markdown",
      "metadata": {
        "id": "EcDf9_6HB2zm"
      },
      "source": [
        "Выведите топ-10 популярных хештегов с количеством встреч. Что можно сказать о них?"
      ]
    },
    {
      "cell_type": "code",
      "source": [
        "import re\n",
        "from collections import Counter\n",
        "\n",
        "def get_popular_tokens(token_counts_dict, pattern, entries_count):\n",
        "    regex_pattern = re.compile(pattern)\n",
        "    filtered_tokens = {token: count for token, count in token_counts_dict.items() if re.match(regex_pattern, token)}\n",
        "    popular_tokens = Counter(filtered_tokens).most_common(entries_count)\n",
        "\n",
        "    return popular_tokens"
      ],
      "metadata": {
        "id": "xVpN9Byp5l8D"
      },
      "execution_count": 20,
      "outputs": []
    },
    {
      "cell_type": "code",
      "execution_count": 21,
      "metadata": {
        "id": "zk4fygCUBw3l",
        "colab": {
          "base_uri": "https://localhost:8080/"
        },
        "outputId": "72228ded-c4b2-47cb-fa9b-5484f7ec4321"
      },
      "outputs": [
        {
          "output_type": "stream",
          "name": "stdout",
          "text": [
            "Top 10 hashtags:\n",
            "#coronavirus: 8223\n",
            "#covid19: 2471\n",
            "#covid_19: 1660\n",
            "#covid2019: 915\n",
            "#toiletpaper: 691\n",
            "#socialdistancing: 427\n",
            "#coronacrisis: 423\n",
            "#covid?19: 418\n",
            "#coronaviruspandemic: 245\n",
            "#pandemic: 232\n"
          ]
        }
      ],
      "source": [
        "sample_size = 10\n",
        "\n",
        "popular_hashtags = get_popular_tokens(\n",
        "    token_counts_dict,\n",
        "    r'#\\w+',\n",
        "    sample_size\n",
        ")\n",
        "\n",
        "print(\"Top 10 hashtags:\")\n",
        "for hashtag, count in popular_hashtags:\n",
        "    print(f'{hashtag}: {count}')"
      ]
    },
    {
      "cell_type": "markdown",
      "metadata": {
        "id": "-6NeNWBkDxM7"
      },
      "source": [
        "**Ответ:** самые популярные хэштеги укзывают тему твита - коронавирус и пандемия. Другие хэштеги из топа относятся к темам, которые были наиболее актуальны в период пандемии, например туалетная бумага :)"
      ]
    },
    {
      "cell_type": "markdown",
      "metadata": {
        "id": "LLYBg7caD5GA"
      },
      "source": [
        "То же самое проделайте для ссылок на сайт https://t.co Сравнима ли популярность ссылок с популярностью хештегов? Будет ли информация о ссылке на конкретную страницу полезна?"
      ]
    },
    {
      "cell_type": "code",
      "execution_count": 22,
      "metadata": {
        "id": "MXbm1oeaCK9S",
        "colab": {
          "base_uri": "https://localhost:8080/"
        },
        "outputId": "e0fb027a-c34b-43fa-fd85-d68d9715b071"
      },
      "outputs": [
        {
          "output_type": "stream",
          "name": "stdout",
          "text": [
            "\n",
            "Top 10 URLs:\n",
            "https://t.co/oxa7swtond: 5\n",
            "https://t.co/gp3eusapl8: 4\n",
            "https://t.co/deftrui1pfãâ: 3\n",
            "https://t.co/wrlhyzizaa: 3\n",
            "https://t.co/kuwipf1kqw: 3\n",
            "https://t.co/zjnrx6dkkn: 3\n",
            "https://t.co/3gbbdpdjat: 3\n",
            "https://t.co/e2znxajpre: 3\n",
            "https://t.co/catkegayoy: 3\n",
            "https://t.co/g63rp042ho: 3\n"
          ]
        }
      ],
      "source": [
        "popular_urls = get_popular_tokens(\n",
        "    token_counts_dict,\n",
        "    r'https://t\\.co/\\w+',\n",
        "    sample_size\n",
        ")\n",
        "\n",
        "print(\"\\nTop 10 URLs:\")\n",
        "for url, count in popular_urls:\n",
        "    print(f'{url}: {count}')"
      ]
    },
    {
      "cell_type": "markdown",
      "metadata": {
        "id": "at6lRYZ8A07N"
      },
      "source": [
        "**Ответ:**\n",
        "\n",
        "*   Популярность ссылок значительно ниже популярности хештегов, что ожидаемо - хэштеги используются для обозначения общей темы, которая может зачастую совпдать, в то время, когда ссылки используются в более спецефичных сценариях, например если нужно привести источник информации.  \n",
        "*   В рамках нашего исследования информация о ссылках на кокретные страницы не будет полезна.\n",
        "\n",
        "\n",
        "\n"
      ]
    },
    {
      "cell_type": "markdown",
      "metadata": {
        "id": "IOGdUU1kBU1D"
      },
      "source": [
        "Используем опыт предыдущих экспериментов и напишем собственный токенайзер, улучшив TweetTokenizer. Функция tokenize должна:\n",
        "\n",
        "\n",
        "\n",
        "*   Привести текст в нижний регистр\n",
        "*   Применить TweetTokenizer для изначального выделения токенов\n",
        "*   Удалить стоп-слова, пунктуацию, токены из одного символа, с позицией в таблице Unicode 128 и более и ссылки на t.co\n",
        "\n"
      ]
    },
    {
      "cell_type": "code",
      "execution_count": 23,
      "metadata": {
        "id": "ctEsB6xkFrrK"
      },
      "outputs": [],
      "source": [
        "from nltk.tokenize import TweetTokenizer\n",
        "\n",
        "def custom_tokenizer(text):\n",
        "    url_pattern = re.compile(r'https://t\\.co/\\w+')\n",
        "\n",
        "    text_lower = text.lower()\n",
        "\n",
        "    tokenizer = TweetTokenizer()\n",
        "    raw_tokens = tokenizer.tokenize(text_lower)\n",
        "    stop_words = set(stopwords.words('english'))\n",
        "    punctuation_symbols = set(punctuation)\n",
        "\n",
        "    tokens = [token for token in raw_tokens\n",
        "              if token not in stop_words\n",
        "              and token not in punctuation_symbols\n",
        "              and not re.match(url_pattern, token)\n",
        "              and not(len(token) == 1 and ord(token) >= 128)]\n",
        "    return tokens\n"
      ]
    },
    {
      "cell_type": "code",
      "execution_count": 24,
      "metadata": {
        "colab": {
          "base_uri": "https://localhost:8080/"
        },
        "id": "XwbgtYkJGYym",
        "outputId": "d3cebe5c-35b0-4d39-cbb1-a86e64aa1f8a"
      },
      "outputs": [
        {
          "output_type": "execute_result",
          "data": {
            "text/plain": [
              "['sample', 'text', '@sample_text', '#sampletext']"
            ]
          },
          "metadata": {},
          "execution_count": 24
        }
      ],
      "source": [
        "custom_tokenizer('This is sample text!!!! @Sample_text I, \\x92\\x92 https://t.co/sample  #sampletext')"
      ]
    },
    {
      "cell_type": "markdown",
      "metadata": {
        "id": "wURVABmXHk97"
      },
      "source": [
        "## Задание 3 Векторизация текстов (2 балла)"
      ]
    },
    {
      "cell_type": "markdown",
      "metadata": {
        "id": "H44iXkoHIQfN"
      },
      "source": [
        "Обучите CountVectorizer с использованием custom_tokenizer в качестве токенайзера. Как размер полученного словаря соотносится с размером изначального словаря из начала задания 2?"
      ]
    },
    {
      "cell_type": "code",
      "source": [
        "from sklearn.feature_extraction.text import CountVectorizer\n",
        "\n",
        "count_vectorizer = CountVectorizer(tokenizer=custom_tokenizer)\n",
        "\n",
        "count_vectorizer.fit(X_train['OriginalTweet'])\n",
        "X_train_counts = count_vectorizer.transform(X_train['OriginalTweet'])\n",
        "\n",
        "print(len(count_vectorizer.vocabulary_))"
      ],
      "metadata": {
        "colab": {
          "base_uri": "https://localhost:8080/"
        },
        "id": "gHn_limQl3BI",
        "outputId": "594acdb0-5db1-47f9-f46d-6ccbc04c9559"
      },
      "execution_count": 25,
      "outputs": [
        {
          "output_type": "stream",
          "name": "stderr",
          "text": [
            "/usr/local/lib/python3.10/dist-packages/sklearn/feature_extraction/text.py:528: UserWarning: The parameter 'token_pattern' will not be used since 'tokenizer' is not None'\n",
            "  warnings.warn(\n"
          ]
        },
        {
          "output_type": "stream",
          "name": "stdout",
          "text": [
            "45309\n"
          ]
        }
      ]
    },
    {
      "cell_type": "markdown",
      "metadata": {
        "id": "gsfmaSGoItUm"
      },
      "source": [
        "**Ответ:**\n",
        "\n",
        "*   Размер словаря из задания №2: 79755  \n",
        "*   Новый размер словаря: 45309\n",
        "\n",
        "В словаре, полученном с использованием кастомного токенайзера меньше пар ключ-значение.\n",
        "\n"
      ]
    },
    {
      "cell_type": "markdown",
      "metadata": {
        "id": "lm6UHNmqKZT0"
      },
      "source": [
        "Посмотрим на какой-нибудь конкретный твитт:"
      ]
    },
    {
      "cell_type": "code",
      "execution_count": 26,
      "metadata": {
        "id": "aJVjjfqOJh8m",
        "colab": {
          "base_uri": "https://localhost:8080/"
        },
        "outputId": "011e6bd9-c4f1-4dea-d1d1-cb4d234db099"
      },
      "outputs": [
        {
          "output_type": "execute_result",
          "data": {
            "text/plain": [
              "('Nice one @SkyNews lets not panic but show ppl in france queueing for food!!! #CoronavirusOutbreak #COVID2019 brainless!! Ffs',\n",
              " 0)"
            ]
          },
          "metadata": {},
          "execution_count": 26
        }
      ],
      "source": [
        "ind = 9023\n",
        "train.iloc[ind]['OriginalTweet'], train.iloc[ind]['Sentiment']"
      ]
    },
    {
      "cell_type": "markdown",
      "metadata": {
        "id": "PBMIHBI5KdaS"
      },
      "source": [
        "Автор твитта не доволен ситуацией с едой во Франции и текст имеет резко негативную окраску.\n",
        "\n",
        "Примените обученный CountVectorizer для векторизации данного текста, и попытайтесь определить самый важный токен и самый неважный токен (токен, компонента которого в векторе максимальна/минимальна, без учета 0). Хорошо ли они определились, почему?"
      ]
    },
    {
      "cell_type": "code",
      "execution_count": 27,
      "metadata": {
        "id": "7NcAllaEKsJj",
        "colab": {
          "base_uri": "https://localhost:8080/",
          "height": 524
        },
        "outputId": "da1d9fd0-59a9-42a2-a9f7-5c70366cd26e"
      },
      "outputs": [
        {
          "output_type": "display_data",
          "data": {
            "text/plain": [
              "    Index                 Token  Vectorized component value\n",
              "0    1833  #coronavirusoutbreak                           1\n",
              "1    2046            #covid2019                           1\n",
              "2   16658              @skynews                           1\n",
              "3   20553             brainless                           1\n",
              "4   26665                   ffs                           1\n",
              "5   27042                  food                           1\n",
              "6   27233                france                           1\n",
              "7   31580                  lets                           1\n",
              "8   34080                  nice                           1\n",
              "9   34689                   one                           1\n",
              "10  35258                 panic                           1\n",
              "11  36414                   ppl                           1\n",
              "12  37230              queueing                           1\n",
              "13  39920                  show                           1"
            ],
            "text/html": [
              "\n",
              "  <div id=\"df-ce0b92d8-df0e-4edc-a62f-189340ed2d01\" class=\"colab-df-container\">\n",
              "    <div>\n",
              "<style scoped>\n",
              "    .dataframe tbody tr th:only-of-type {\n",
              "        vertical-align: middle;\n",
              "    }\n",
              "\n",
              "    .dataframe tbody tr th {\n",
              "        vertical-align: top;\n",
              "    }\n",
              "\n",
              "    .dataframe thead th {\n",
              "        text-align: right;\n",
              "    }\n",
              "</style>\n",
              "<table border=\"1\" class=\"dataframe\">\n",
              "  <thead>\n",
              "    <tr style=\"text-align: right;\">\n",
              "      <th></th>\n",
              "      <th>Index</th>\n",
              "      <th>Token</th>\n",
              "      <th>Vectorized component value</th>\n",
              "    </tr>\n",
              "  </thead>\n",
              "  <tbody>\n",
              "    <tr>\n",
              "      <th>0</th>\n",
              "      <td>1833</td>\n",
              "      <td>#coronavirusoutbreak</td>\n",
              "      <td>1</td>\n",
              "    </tr>\n",
              "    <tr>\n",
              "      <th>1</th>\n",
              "      <td>2046</td>\n",
              "      <td>#covid2019</td>\n",
              "      <td>1</td>\n",
              "    </tr>\n",
              "    <tr>\n",
              "      <th>2</th>\n",
              "      <td>16658</td>\n",
              "      <td>@skynews</td>\n",
              "      <td>1</td>\n",
              "    </tr>\n",
              "    <tr>\n",
              "      <th>3</th>\n",
              "      <td>20553</td>\n",
              "      <td>brainless</td>\n",
              "      <td>1</td>\n",
              "    </tr>\n",
              "    <tr>\n",
              "      <th>4</th>\n",
              "      <td>26665</td>\n",
              "      <td>ffs</td>\n",
              "      <td>1</td>\n",
              "    </tr>\n",
              "    <tr>\n",
              "      <th>5</th>\n",
              "      <td>27042</td>\n",
              "      <td>food</td>\n",
              "      <td>1</td>\n",
              "    </tr>\n",
              "    <tr>\n",
              "      <th>6</th>\n",
              "      <td>27233</td>\n",
              "      <td>france</td>\n",
              "      <td>1</td>\n",
              "    </tr>\n",
              "    <tr>\n",
              "      <th>7</th>\n",
              "      <td>31580</td>\n",
              "      <td>lets</td>\n",
              "      <td>1</td>\n",
              "    </tr>\n",
              "    <tr>\n",
              "      <th>8</th>\n",
              "      <td>34080</td>\n",
              "      <td>nice</td>\n",
              "      <td>1</td>\n",
              "    </tr>\n",
              "    <tr>\n",
              "      <th>9</th>\n",
              "      <td>34689</td>\n",
              "      <td>one</td>\n",
              "      <td>1</td>\n",
              "    </tr>\n",
              "    <tr>\n",
              "      <th>10</th>\n",
              "      <td>35258</td>\n",
              "      <td>panic</td>\n",
              "      <td>1</td>\n",
              "    </tr>\n",
              "    <tr>\n",
              "      <th>11</th>\n",
              "      <td>36414</td>\n",
              "      <td>ppl</td>\n",
              "      <td>1</td>\n",
              "    </tr>\n",
              "    <tr>\n",
              "      <th>12</th>\n",
              "      <td>37230</td>\n",
              "      <td>queueing</td>\n",
              "      <td>1</td>\n",
              "    </tr>\n",
              "    <tr>\n",
              "      <th>13</th>\n",
              "      <td>39920</td>\n",
              "      <td>show</td>\n",
              "      <td>1</td>\n",
              "    </tr>\n",
              "  </tbody>\n",
              "</table>\n",
              "</div>\n",
              "    <div class=\"colab-df-buttons\">\n",
              "\n",
              "  <div class=\"colab-df-container\">\n",
              "    <button class=\"colab-df-convert\" onclick=\"convertToInteractive('df-ce0b92d8-df0e-4edc-a62f-189340ed2d01')\"\n",
              "            title=\"Convert this dataframe to an interactive table.\"\n",
              "            style=\"display:none;\">\n",
              "\n",
              "  <svg xmlns=\"http://www.w3.org/2000/svg\" height=\"24px\" viewBox=\"0 -960 960 960\">\n",
              "    <path d=\"M120-120v-720h720v720H120Zm60-500h600v-160H180v160Zm220 220h160v-160H400v160Zm0 220h160v-160H400v160ZM180-400h160v-160H180v160Zm440 0h160v-160H620v160ZM180-180h160v-160H180v160Zm440 0h160v-160H620v160Z\"/>\n",
              "  </svg>\n",
              "    </button>\n",
              "\n",
              "  <style>\n",
              "    .colab-df-container {\n",
              "      display:flex;\n",
              "      gap: 12px;\n",
              "    }\n",
              "\n",
              "    .colab-df-convert {\n",
              "      background-color: #E8F0FE;\n",
              "      border: none;\n",
              "      border-radius: 50%;\n",
              "      cursor: pointer;\n",
              "      display: none;\n",
              "      fill: #1967D2;\n",
              "      height: 32px;\n",
              "      padding: 0 0 0 0;\n",
              "      width: 32px;\n",
              "    }\n",
              "\n",
              "    .colab-df-convert:hover {\n",
              "      background-color: #E2EBFA;\n",
              "      box-shadow: 0px 1px 2px rgba(60, 64, 67, 0.3), 0px 1px 3px 1px rgba(60, 64, 67, 0.15);\n",
              "      fill: #174EA6;\n",
              "    }\n",
              "\n",
              "    .colab-df-buttons div {\n",
              "      margin-bottom: 4px;\n",
              "    }\n",
              "\n",
              "    [theme=dark] .colab-df-convert {\n",
              "      background-color: #3B4455;\n",
              "      fill: #D2E3FC;\n",
              "    }\n",
              "\n",
              "    [theme=dark] .colab-df-convert:hover {\n",
              "      background-color: #434B5C;\n",
              "      box-shadow: 0px 1px 3px 1px rgba(0, 0, 0, 0.15);\n",
              "      filter: drop-shadow(0px 1px 2px rgba(0, 0, 0, 0.3));\n",
              "      fill: #FFFFFF;\n",
              "    }\n",
              "  </style>\n",
              "\n",
              "    <script>\n",
              "      const buttonEl =\n",
              "        document.querySelector('#df-ce0b92d8-df0e-4edc-a62f-189340ed2d01 button.colab-df-convert');\n",
              "      buttonEl.style.display =\n",
              "        google.colab.kernel.accessAllowed ? 'block' : 'none';\n",
              "\n",
              "      async function convertToInteractive(key) {\n",
              "        const element = document.querySelector('#df-ce0b92d8-df0e-4edc-a62f-189340ed2d01');\n",
              "        const dataTable =\n",
              "          await google.colab.kernel.invokeFunction('convertToInteractive',\n",
              "                                                    [key], {});\n",
              "        if (!dataTable) return;\n",
              "\n",
              "        const docLinkHtml = 'Like what you see? Visit the ' +\n",
              "          '<a target=\"_blank\" href=https://colab.research.google.com/notebooks/data_table.ipynb>data table notebook</a>'\n",
              "          + ' to learn more about interactive tables.';\n",
              "        element.innerHTML = '';\n",
              "        dataTable['output_type'] = 'display_data';\n",
              "        await google.colab.output.renderOutput(dataTable, element);\n",
              "        const docLink = document.createElement('div');\n",
              "        docLink.innerHTML = docLinkHtml;\n",
              "        element.appendChild(docLink);\n",
              "      }\n",
              "    </script>\n",
              "  </div>\n",
              "\n",
              "\n",
              "<div id=\"df-228fce93-49a8-4095-adb2-6ca6a35ae634\">\n",
              "  <button class=\"colab-df-quickchart\" onclick=\"quickchart('df-228fce93-49a8-4095-adb2-6ca6a35ae634')\"\n",
              "            title=\"Suggest charts\"\n",
              "            style=\"display:none;\">\n",
              "\n",
              "<svg xmlns=\"http://www.w3.org/2000/svg\" height=\"24px\"viewBox=\"0 0 24 24\"\n",
              "     width=\"24px\">\n",
              "    <g>\n",
              "        <path d=\"M19 3H5c-1.1 0-2 .9-2 2v14c0 1.1.9 2 2 2h14c1.1 0 2-.9 2-2V5c0-1.1-.9-2-2-2zM9 17H7v-7h2v7zm4 0h-2V7h2v10zm4 0h-2v-4h2v4z\"/>\n",
              "    </g>\n",
              "</svg>\n",
              "  </button>\n",
              "\n",
              "<style>\n",
              "  .colab-df-quickchart {\n",
              "      --bg-color: #E8F0FE;\n",
              "      --fill-color: #1967D2;\n",
              "      --hover-bg-color: #E2EBFA;\n",
              "      --hover-fill-color: #174EA6;\n",
              "      --disabled-fill-color: #AAA;\n",
              "      --disabled-bg-color: #DDD;\n",
              "  }\n",
              "\n",
              "  [theme=dark] .colab-df-quickchart {\n",
              "      --bg-color: #3B4455;\n",
              "      --fill-color: #D2E3FC;\n",
              "      --hover-bg-color: #434B5C;\n",
              "      --hover-fill-color: #FFFFFF;\n",
              "      --disabled-bg-color: #3B4455;\n",
              "      --disabled-fill-color: #666;\n",
              "  }\n",
              "\n",
              "  .colab-df-quickchart {\n",
              "    background-color: var(--bg-color);\n",
              "    border: none;\n",
              "    border-radius: 50%;\n",
              "    cursor: pointer;\n",
              "    display: none;\n",
              "    fill: var(--fill-color);\n",
              "    height: 32px;\n",
              "    padding: 0;\n",
              "    width: 32px;\n",
              "  }\n",
              "\n",
              "  .colab-df-quickchart:hover {\n",
              "    background-color: var(--hover-bg-color);\n",
              "    box-shadow: 0 1px 2px rgba(60, 64, 67, 0.3), 0 1px 3px 1px rgba(60, 64, 67, 0.15);\n",
              "    fill: var(--button-hover-fill-color);\n",
              "  }\n",
              "\n",
              "  .colab-df-quickchart-complete:disabled,\n",
              "  .colab-df-quickchart-complete:disabled:hover {\n",
              "    background-color: var(--disabled-bg-color);\n",
              "    fill: var(--disabled-fill-color);\n",
              "    box-shadow: none;\n",
              "  }\n",
              "\n",
              "  .colab-df-spinner {\n",
              "    border: 2px solid var(--fill-color);\n",
              "    border-color: transparent;\n",
              "    border-bottom-color: var(--fill-color);\n",
              "    animation:\n",
              "      spin 1s steps(1) infinite;\n",
              "  }\n",
              "\n",
              "  @keyframes spin {\n",
              "    0% {\n",
              "      border-color: transparent;\n",
              "      border-bottom-color: var(--fill-color);\n",
              "      border-left-color: var(--fill-color);\n",
              "    }\n",
              "    20% {\n",
              "      border-color: transparent;\n",
              "      border-left-color: var(--fill-color);\n",
              "      border-top-color: var(--fill-color);\n",
              "    }\n",
              "    30% {\n",
              "      border-color: transparent;\n",
              "      border-left-color: var(--fill-color);\n",
              "      border-top-color: var(--fill-color);\n",
              "      border-right-color: var(--fill-color);\n",
              "    }\n",
              "    40% {\n",
              "      border-color: transparent;\n",
              "      border-right-color: var(--fill-color);\n",
              "      border-top-color: var(--fill-color);\n",
              "    }\n",
              "    60% {\n",
              "      border-color: transparent;\n",
              "      border-right-color: var(--fill-color);\n",
              "    }\n",
              "    80% {\n",
              "      border-color: transparent;\n",
              "      border-right-color: var(--fill-color);\n",
              "      border-bottom-color: var(--fill-color);\n",
              "    }\n",
              "    90% {\n",
              "      border-color: transparent;\n",
              "      border-bottom-color: var(--fill-color);\n",
              "    }\n",
              "  }\n",
              "</style>\n",
              "\n",
              "  <script>\n",
              "    async function quickchart(key) {\n",
              "      const quickchartButtonEl =\n",
              "        document.querySelector('#' + key + ' button');\n",
              "      quickchartButtonEl.disabled = true;  // To prevent multiple clicks.\n",
              "      quickchartButtonEl.classList.add('colab-df-spinner');\n",
              "      try {\n",
              "        const charts = await google.colab.kernel.invokeFunction(\n",
              "            'suggestCharts', [key], {});\n",
              "      } catch (error) {\n",
              "        console.error('Error during call to suggestCharts:', error);\n",
              "      }\n",
              "      quickchartButtonEl.classList.remove('colab-df-spinner');\n",
              "      quickchartButtonEl.classList.add('colab-df-quickchart-complete');\n",
              "    }\n",
              "    (() => {\n",
              "      let quickchartButtonEl =\n",
              "        document.querySelector('#df-228fce93-49a8-4095-adb2-6ca6a35ae634 button');\n",
              "      quickchartButtonEl.style.display =\n",
              "        google.colab.kernel.accessAllowed ? 'block' : 'none';\n",
              "    })();\n",
              "  </script>\n",
              "</div>\n",
              "    </div>\n",
              "  </div>\n"
            ],
            "application/vnd.google.colaboratory.intrinsic+json": {
              "type": "dataframe",
              "variable_name": "df_nonzero",
              "summary": "{\n  \"name\": \"df_nonzero\",\n  \"rows\": 14,\n  \"fields\": [\n    {\n      \"column\": \"Index\",\n      \"properties\": {\n        \"dtype\": \"int32\",\n        \"num_unique_values\": 14,\n        \"samples\": [\n          34689,\n          36414,\n          1833\n        ],\n        \"semantic_type\": \"\",\n        \"description\": \"\"\n      }\n    },\n    {\n      \"column\": \"Token\",\n      \"properties\": {\n        \"dtype\": \"string\",\n        \"num_unique_values\": 14,\n        \"samples\": [\n          \"one\",\n          \"ppl\",\n          \"#coronavirusoutbreak\"\n        ],\n        \"semantic_type\": \"\",\n        \"description\": \"\"\n      }\n    },\n    {\n      \"column\": \"Vectorized component value\",\n      \"properties\": {\n        \"dtype\": \"number\",\n        \"std\": 0,\n        \"min\": 1,\n        \"max\": 1,\n        \"num_unique_values\": 1,\n        \"samples\": [\n          1\n        ],\n        \"semantic_type\": \"\",\n        \"description\": \"\"\n      }\n    }\n  ]\n}"
            }
          },
          "metadata": {}
        },
        {
          "output_type": "stream",
          "name": "stdout",
          "text": [
            "Most important token: #coronavirusoutbreak\n",
            "Least important token: #coronavirusoutbreak\n"
          ]
        }
      ],
      "source": [
        "tweet_text = train.iloc[ind]['OriginalTweet']\n",
        "\n",
        "text_vectorized = count_vectorizer.transform([tweet_text])\n",
        "text_vector_array = text_vectorized.toarray()[0]\n",
        "\n",
        "nonzero_indices = text_vectorized.nonzero()[1]\n",
        "vocab = count_vectorizer.get_feature_names_out()\n",
        "\n",
        "nonzero_entries = zip(nonzero_indices, vocab[nonzero_indices], text_vector_array[nonzero_indices])\n",
        "df_nonzero = pd.DataFrame(nonzero_entries, columns=['Index', 'Token', 'Vectorized component value'])\n",
        "pd.set_option('display.precision', 3)\n",
        "display(df_nonzero)\n",
        "\n",
        "max_nonzero_index = nonzero_indices[np.argmax(text_vector_array[nonzero_indices])]\n",
        "min_nonzero_index = nonzero_indices[np.argmin(text_vector_array[nonzero_indices])]\n",
        "\n",
        "most_important_token = vocab[max_nonzero_index]\n",
        "least_important_token = vocab[min_nonzero_index]\n",
        "\n",
        "print(\"Most important token:\", most_important_token)\n",
        "print(\"Least important token:\", least_important_token)\n"
      ]
    },
    {
      "cell_type": "markdown",
      "metadata": {
        "id": "TpEsl1k_NF4T"
      },
      "source": [
        "**Ответ:** Самый важный и самый неважный токен определись плохо (они совпали). Так получилось, потому после векторизации данного текста токены получили компоненты либо 0, либо 1, а значит токен (среди тех у которых комонента ненулевая), компонента которого максимальна/минимальна совпал - его компонента равна 1"
      ]
    },
    {
      "cell_type": "markdown",
      "metadata": {
        "id": "w4DsEQpLO3J6"
      },
      "source": [
        "Теперь примените TfidfVectorizer и  определите самый важный/неважный токены. Хорошо ли определились, почему?"
      ]
    },
    {
      "cell_type": "code",
      "source": [
        "from sklearn.feature_extraction.text import TfidfVectorizer\n",
        "\n",
        "tfidf_vectorizer = TfidfVectorizer(tokenizer=custom_tokenizer)\n",
        "\n",
        "X_train_tfidf = tfidf_vectorizer.fit(X_train['OriginalTweet'])"
      ],
      "metadata": {
        "colab": {
          "base_uri": "https://localhost:8080/"
        },
        "id": "v85JA4HhU4yJ",
        "outputId": "a2b56246-885f-445d-d3e4-18db640f2172"
      },
      "execution_count": 28,
      "outputs": [
        {
          "output_type": "stream",
          "name": "stderr",
          "text": [
            "/usr/local/lib/python3.10/dist-packages/sklearn/feature_extraction/text.py:528: UserWarning: The parameter 'token_pattern' will not be used since 'tokenizer' is not None'\n",
            "  warnings.warn(\n"
          ]
        }
      ]
    },
    {
      "cell_type": "code",
      "execution_count": 29,
      "metadata": {
        "id": "uSNzdK3ENGB3",
        "colab": {
          "base_uri": "https://localhost:8080/",
          "height": 524
        },
        "outputId": "7d6c04fa-aa88-4dd8-f0ba-08644a240124"
      },
      "outputs": [
        {
          "output_type": "display_data",
          "data": {
            "text/plain": [
              "    Index                 Token  Vectorized component value\n",
              "0   39920                  show                       0.244\n",
              "1   37230              queueing                       0.354\n",
              "2   36414                   ppl                       0.255\n",
              "3   35258                 panic                       0.148\n",
              "4   34689                   one                       0.163\n",
              "5   34080                  nice                       0.254\n",
              "6   31580                  lets                       0.301\n",
              "7   27233                france                       0.320\n",
              "8   27042                  food                       0.113\n",
              "9   26665                   ffs                       0.324\n",
              "10  20553             brainless                       0.387\n",
              "11  16658              @skynews                       0.310\n",
              "12   2046            #covid2019                       0.168\n",
              "13   1833  #coronavirusoutbreak                       0.226"
            ],
            "text/html": [
              "\n",
              "  <div id=\"df-1d1a821e-075f-4bb4-b494-a05134028037\" class=\"colab-df-container\">\n",
              "    <div>\n",
              "<style scoped>\n",
              "    .dataframe tbody tr th:only-of-type {\n",
              "        vertical-align: middle;\n",
              "    }\n",
              "\n",
              "    .dataframe tbody tr th {\n",
              "        vertical-align: top;\n",
              "    }\n",
              "\n",
              "    .dataframe thead th {\n",
              "        text-align: right;\n",
              "    }\n",
              "</style>\n",
              "<table border=\"1\" class=\"dataframe\">\n",
              "  <thead>\n",
              "    <tr style=\"text-align: right;\">\n",
              "      <th></th>\n",
              "      <th>Index</th>\n",
              "      <th>Token</th>\n",
              "      <th>Vectorized component value</th>\n",
              "    </tr>\n",
              "  </thead>\n",
              "  <tbody>\n",
              "    <tr>\n",
              "      <th>0</th>\n",
              "      <td>39920</td>\n",
              "      <td>show</td>\n",
              "      <td>0.244</td>\n",
              "    </tr>\n",
              "    <tr>\n",
              "      <th>1</th>\n",
              "      <td>37230</td>\n",
              "      <td>queueing</td>\n",
              "      <td>0.354</td>\n",
              "    </tr>\n",
              "    <tr>\n",
              "      <th>2</th>\n",
              "      <td>36414</td>\n",
              "      <td>ppl</td>\n",
              "      <td>0.255</td>\n",
              "    </tr>\n",
              "    <tr>\n",
              "      <th>3</th>\n",
              "      <td>35258</td>\n",
              "      <td>panic</td>\n",
              "      <td>0.148</td>\n",
              "    </tr>\n",
              "    <tr>\n",
              "      <th>4</th>\n",
              "      <td>34689</td>\n",
              "      <td>one</td>\n",
              "      <td>0.163</td>\n",
              "    </tr>\n",
              "    <tr>\n",
              "      <th>5</th>\n",
              "      <td>34080</td>\n",
              "      <td>nice</td>\n",
              "      <td>0.254</td>\n",
              "    </tr>\n",
              "    <tr>\n",
              "      <th>6</th>\n",
              "      <td>31580</td>\n",
              "      <td>lets</td>\n",
              "      <td>0.301</td>\n",
              "    </tr>\n",
              "    <tr>\n",
              "      <th>7</th>\n",
              "      <td>27233</td>\n",
              "      <td>france</td>\n",
              "      <td>0.320</td>\n",
              "    </tr>\n",
              "    <tr>\n",
              "      <th>8</th>\n",
              "      <td>27042</td>\n",
              "      <td>food</td>\n",
              "      <td>0.113</td>\n",
              "    </tr>\n",
              "    <tr>\n",
              "      <th>9</th>\n",
              "      <td>26665</td>\n",
              "      <td>ffs</td>\n",
              "      <td>0.324</td>\n",
              "    </tr>\n",
              "    <tr>\n",
              "      <th>10</th>\n",
              "      <td>20553</td>\n",
              "      <td>brainless</td>\n",
              "      <td>0.387</td>\n",
              "    </tr>\n",
              "    <tr>\n",
              "      <th>11</th>\n",
              "      <td>16658</td>\n",
              "      <td>@skynews</td>\n",
              "      <td>0.310</td>\n",
              "    </tr>\n",
              "    <tr>\n",
              "      <th>12</th>\n",
              "      <td>2046</td>\n",
              "      <td>#covid2019</td>\n",
              "      <td>0.168</td>\n",
              "    </tr>\n",
              "    <tr>\n",
              "      <th>13</th>\n",
              "      <td>1833</td>\n",
              "      <td>#coronavirusoutbreak</td>\n",
              "      <td>0.226</td>\n",
              "    </tr>\n",
              "  </tbody>\n",
              "</table>\n",
              "</div>\n",
              "    <div class=\"colab-df-buttons\">\n",
              "\n",
              "  <div class=\"colab-df-container\">\n",
              "    <button class=\"colab-df-convert\" onclick=\"convertToInteractive('df-1d1a821e-075f-4bb4-b494-a05134028037')\"\n",
              "            title=\"Convert this dataframe to an interactive table.\"\n",
              "            style=\"display:none;\">\n",
              "\n",
              "  <svg xmlns=\"http://www.w3.org/2000/svg\" height=\"24px\" viewBox=\"0 -960 960 960\">\n",
              "    <path d=\"M120-120v-720h720v720H120Zm60-500h600v-160H180v160Zm220 220h160v-160H400v160Zm0 220h160v-160H400v160ZM180-400h160v-160H180v160Zm440 0h160v-160H620v160ZM180-180h160v-160H180v160Zm440 0h160v-160H620v160Z\"/>\n",
              "  </svg>\n",
              "    </button>\n",
              "\n",
              "  <style>\n",
              "    .colab-df-container {\n",
              "      display:flex;\n",
              "      gap: 12px;\n",
              "    }\n",
              "\n",
              "    .colab-df-convert {\n",
              "      background-color: #E8F0FE;\n",
              "      border: none;\n",
              "      border-radius: 50%;\n",
              "      cursor: pointer;\n",
              "      display: none;\n",
              "      fill: #1967D2;\n",
              "      height: 32px;\n",
              "      padding: 0 0 0 0;\n",
              "      width: 32px;\n",
              "    }\n",
              "\n",
              "    .colab-df-convert:hover {\n",
              "      background-color: #E2EBFA;\n",
              "      box-shadow: 0px 1px 2px rgba(60, 64, 67, 0.3), 0px 1px 3px 1px rgba(60, 64, 67, 0.15);\n",
              "      fill: #174EA6;\n",
              "    }\n",
              "\n",
              "    .colab-df-buttons div {\n",
              "      margin-bottom: 4px;\n",
              "    }\n",
              "\n",
              "    [theme=dark] .colab-df-convert {\n",
              "      background-color: #3B4455;\n",
              "      fill: #D2E3FC;\n",
              "    }\n",
              "\n",
              "    [theme=dark] .colab-df-convert:hover {\n",
              "      background-color: #434B5C;\n",
              "      box-shadow: 0px 1px 3px 1px rgba(0, 0, 0, 0.15);\n",
              "      filter: drop-shadow(0px 1px 2px rgba(0, 0, 0, 0.3));\n",
              "      fill: #FFFFFF;\n",
              "    }\n",
              "  </style>\n",
              "\n",
              "    <script>\n",
              "      const buttonEl =\n",
              "        document.querySelector('#df-1d1a821e-075f-4bb4-b494-a05134028037 button.colab-df-convert');\n",
              "      buttonEl.style.display =\n",
              "        google.colab.kernel.accessAllowed ? 'block' : 'none';\n",
              "\n",
              "      async function convertToInteractive(key) {\n",
              "        const element = document.querySelector('#df-1d1a821e-075f-4bb4-b494-a05134028037');\n",
              "        const dataTable =\n",
              "          await google.colab.kernel.invokeFunction('convertToInteractive',\n",
              "                                                    [key], {});\n",
              "        if (!dataTable) return;\n",
              "\n",
              "        const docLinkHtml = 'Like what you see? Visit the ' +\n",
              "          '<a target=\"_blank\" href=https://colab.research.google.com/notebooks/data_table.ipynb>data table notebook</a>'\n",
              "          + ' to learn more about interactive tables.';\n",
              "        element.innerHTML = '';\n",
              "        dataTable['output_type'] = 'display_data';\n",
              "        await google.colab.output.renderOutput(dataTable, element);\n",
              "        const docLink = document.createElement('div');\n",
              "        docLink.innerHTML = docLinkHtml;\n",
              "        element.appendChild(docLink);\n",
              "      }\n",
              "    </script>\n",
              "  </div>\n",
              "\n",
              "\n",
              "<div id=\"df-7593a62b-d5e8-43ee-909d-3b4957f1bb82\">\n",
              "  <button class=\"colab-df-quickchart\" onclick=\"quickchart('df-7593a62b-d5e8-43ee-909d-3b4957f1bb82')\"\n",
              "            title=\"Suggest charts\"\n",
              "            style=\"display:none;\">\n",
              "\n",
              "<svg xmlns=\"http://www.w3.org/2000/svg\" height=\"24px\"viewBox=\"0 0 24 24\"\n",
              "     width=\"24px\">\n",
              "    <g>\n",
              "        <path d=\"M19 3H5c-1.1 0-2 .9-2 2v14c0 1.1.9 2 2 2h14c1.1 0 2-.9 2-2V5c0-1.1-.9-2-2-2zM9 17H7v-7h2v7zm4 0h-2V7h2v10zm4 0h-2v-4h2v4z\"/>\n",
              "    </g>\n",
              "</svg>\n",
              "  </button>\n",
              "\n",
              "<style>\n",
              "  .colab-df-quickchart {\n",
              "      --bg-color: #E8F0FE;\n",
              "      --fill-color: #1967D2;\n",
              "      --hover-bg-color: #E2EBFA;\n",
              "      --hover-fill-color: #174EA6;\n",
              "      --disabled-fill-color: #AAA;\n",
              "      --disabled-bg-color: #DDD;\n",
              "  }\n",
              "\n",
              "  [theme=dark] .colab-df-quickchart {\n",
              "      --bg-color: #3B4455;\n",
              "      --fill-color: #D2E3FC;\n",
              "      --hover-bg-color: #434B5C;\n",
              "      --hover-fill-color: #FFFFFF;\n",
              "      --disabled-bg-color: #3B4455;\n",
              "      --disabled-fill-color: #666;\n",
              "  }\n",
              "\n",
              "  .colab-df-quickchart {\n",
              "    background-color: var(--bg-color);\n",
              "    border: none;\n",
              "    border-radius: 50%;\n",
              "    cursor: pointer;\n",
              "    display: none;\n",
              "    fill: var(--fill-color);\n",
              "    height: 32px;\n",
              "    padding: 0;\n",
              "    width: 32px;\n",
              "  }\n",
              "\n",
              "  .colab-df-quickchart:hover {\n",
              "    background-color: var(--hover-bg-color);\n",
              "    box-shadow: 0 1px 2px rgba(60, 64, 67, 0.3), 0 1px 3px 1px rgba(60, 64, 67, 0.15);\n",
              "    fill: var(--button-hover-fill-color);\n",
              "  }\n",
              "\n",
              "  .colab-df-quickchart-complete:disabled,\n",
              "  .colab-df-quickchart-complete:disabled:hover {\n",
              "    background-color: var(--disabled-bg-color);\n",
              "    fill: var(--disabled-fill-color);\n",
              "    box-shadow: none;\n",
              "  }\n",
              "\n",
              "  .colab-df-spinner {\n",
              "    border: 2px solid var(--fill-color);\n",
              "    border-color: transparent;\n",
              "    border-bottom-color: var(--fill-color);\n",
              "    animation:\n",
              "      spin 1s steps(1) infinite;\n",
              "  }\n",
              "\n",
              "  @keyframes spin {\n",
              "    0% {\n",
              "      border-color: transparent;\n",
              "      border-bottom-color: var(--fill-color);\n",
              "      border-left-color: var(--fill-color);\n",
              "    }\n",
              "    20% {\n",
              "      border-color: transparent;\n",
              "      border-left-color: var(--fill-color);\n",
              "      border-top-color: var(--fill-color);\n",
              "    }\n",
              "    30% {\n",
              "      border-color: transparent;\n",
              "      border-left-color: var(--fill-color);\n",
              "      border-top-color: var(--fill-color);\n",
              "      border-right-color: var(--fill-color);\n",
              "    }\n",
              "    40% {\n",
              "      border-color: transparent;\n",
              "      border-right-color: var(--fill-color);\n",
              "      border-top-color: var(--fill-color);\n",
              "    }\n",
              "    60% {\n",
              "      border-color: transparent;\n",
              "      border-right-color: var(--fill-color);\n",
              "    }\n",
              "    80% {\n",
              "      border-color: transparent;\n",
              "      border-right-color: var(--fill-color);\n",
              "      border-bottom-color: var(--fill-color);\n",
              "    }\n",
              "    90% {\n",
              "      border-color: transparent;\n",
              "      border-bottom-color: var(--fill-color);\n",
              "    }\n",
              "  }\n",
              "</style>\n",
              "\n",
              "  <script>\n",
              "    async function quickchart(key) {\n",
              "      const quickchartButtonEl =\n",
              "        document.querySelector('#' + key + ' button');\n",
              "      quickchartButtonEl.disabled = true;  // To prevent multiple clicks.\n",
              "      quickchartButtonEl.classList.add('colab-df-spinner');\n",
              "      try {\n",
              "        const charts = await google.colab.kernel.invokeFunction(\n",
              "            'suggestCharts', [key], {});\n",
              "      } catch (error) {\n",
              "        console.error('Error during call to suggestCharts:', error);\n",
              "      }\n",
              "      quickchartButtonEl.classList.remove('colab-df-spinner');\n",
              "      quickchartButtonEl.classList.add('colab-df-quickchart-complete');\n",
              "    }\n",
              "    (() => {\n",
              "      let quickchartButtonEl =\n",
              "        document.querySelector('#df-7593a62b-d5e8-43ee-909d-3b4957f1bb82 button');\n",
              "      quickchartButtonEl.style.display =\n",
              "        google.colab.kernel.accessAllowed ? 'block' : 'none';\n",
              "    })();\n",
              "  </script>\n",
              "</div>\n",
              "    </div>\n",
              "  </div>\n"
            ],
            "application/vnd.google.colaboratory.intrinsic+json": {
              "type": "dataframe",
              "variable_name": "df_tfidf",
              "summary": "{\n  \"name\": \"df_tfidf\",\n  \"rows\": 14,\n  \"fields\": [\n    {\n      \"column\": \"Index\",\n      \"properties\": {\n        \"dtype\": \"int32\",\n        \"num_unique_values\": 14,\n        \"samples\": [\n          26665,\n          16658,\n          39920\n        ],\n        \"semantic_type\": \"\",\n        \"description\": \"\"\n      }\n    },\n    {\n      \"column\": \"Token\",\n      \"properties\": {\n        \"dtype\": \"string\",\n        \"num_unique_values\": 14,\n        \"samples\": [\n          \"ffs\",\n          \"@skynews\",\n          \"show\"\n        ],\n        \"semantic_type\": \"\",\n        \"description\": \"\"\n      }\n    },\n    {\n      \"column\": \"Vectorized component value\",\n      \"properties\": {\n        \"dtype\": \"number\",\n        \"std\": 0.08325919135223836,\n        \"min\": 0.11328893069250721,\n        \"max\": 0.3867641170466375,\n        \"num_unique_values\": 14,\n        \"samples\": [\n          0.3244741764513268,\n          0.31042634466284263,\n          0.24406492401820118\n        ],\n        \"semantic_type\": \"\",\n        \"description\": \"\"\n      }\n    }\n  ]\n}"
            }
          },
          "metadata": {}
        },
        {
          "output_type": "stream",
          "name": "stdout",
          "text": [
            "Most important token (TF-IDF): brainless\n",
            "Least important token (TF-IDF): food\n"
          ]
        }
      ],
      "source": [
        "text_tfidf_vectorized = tfidf_vectorizer.transform([tweet_text])\n",
        "\n",
        "text_tfidf_vector_array = text_tfidf_vectorized.toarray()[0]\n",
        "nonzero_indices_tfidf = text_tfidf_vectorized.nonzero()[1]\n",
        "\n",
        "vocab_tfidf = tfidf_vectorizer.get_feature_names_out()\n",
        "\n",
        "nonzero_pairs = zip(nonzero_indices_tfidf, vocab_tfidf[nonzero_indices_tfidf], text_tfidf_vector_array[nonzero_indices_tfidf])\n",
        "df_tfidf = pd.DataFrame(nonzero_pairs, columns=['Index', 'Token', 'Vectorized component value'])\n",
        "\n",
        "pd.set_option('display.precision', 3)\n",
        "display(df_tfidf)\n",
        "\n",
        "max_nonzero_index_tfidf = nonzero_indices_tfidf[np.argmax(text_tfidf_vector_array[nonzero_indices_tfidf])]\n",
        "min_nonzero_index_tfidf = nonzero_indices_tfidf[np.argmin(text_tfidf_vector_array[nonzero_indices_tfidf])]\n",
        "\n",
        "most_important_token_tfidf = vocab_tfidf[max_nonzero_index_tfidf]\n",
        "least_important_token_tfidf = vocab_tfidf[min_nonzero_index_tfidf]\n",
        "\n",
        "\n",
        "print(\"Most important token (TF-IDF):\", most_important_token_tfidf)\n",
        "print(\"Least important token (TF-IDF):\", least_important_token_tfidf)\n"
      ]
    },
    {
      "cell_type": "markdown",
      "metadata": {
        "id": "NYao_UhqQADm"
      },
      "source": [
        "**Ответ:** самый важный токен - brainless, самый неважный токен - food. В этот раз наиболее/наименее важные токены определились гораздо лучше, потому что теперь с токенами ассоциируются значения из даипазана [0; 1], а не просто два значения (0 и 1), как это было ранее"
      ]
    },
    {
      "cell_type": "markdown",
      "metadata": {
        "id": "LGRJPqfWSesQ"
      },
      "source": [
        "Найдите какой-нибудь положительно окрашенный твитт, где TfidfVectorizer хорошо (полезно для определения окраски) выделяет важный токен, поясните пример.\n",
        "\n",
        "*Подсказка:* явно положительные твитты можно искать при помощи положительных слов (good, great, amazing и т. д.)"
      ]
    },
    {
      "cell_type": "code",
      "execution_count": 30,
      "metadata": {
        "id": "bRbQ2CHiSuJI",
        "colab": {
          "base_uri": "https://localhost:8080/",
          "height": 423
        },
        "outputId": "f9451bd0-2708-4ded-e3ad-98f409b150dc"
      },
      "outputs": [
        {
          "output_type": "execute_result",
          "data": {
            "text/plain": [
              "       UserName  ScreenName                   Location     TweetAt  \\\n",
              "192        4035       48987              San Diego, CA  16-03-2020   \n",
              "4066       8742       53694  Adelaide, South Australia  18-03-2020   \n",
              "342        4219       49171                 Boston, MA  16-03-2020   \n",
              "21883     30511       75463                     London  02-04-2020   \n",
              "23519     32529       77481           Moulton, England  05-04-2020   \n",
              "...         ...         ...                        ...         ...   \n",
              "21960     30608       75560                    Unknown  02-04-2020   \n",
              "23905     33018       77970                    Unknown  05-04-2020   \n",
              "25907     35528       80480                   Bay Area  07-04-2020   \n",
              "18987     26911       71863                    Unknown  25-03-2020   \n",
              "15620     22797       67749                    Unknown  24-03-2020   \n",
              "\n",
              "                                           OriginalTweet  Sentiment  \n",
              "192    What's a good way to support grocery store, me...          1  \n",
              "4066   BREAKING: WeÃÂre giving supermarkets the opt...          1  \n",
              "342    [THREAD] China's role in wildlife trade should...          1  \n",
              "21883  Coronavirus career pivots: 'I now work in a su...          1  \n",
              "23519  Well done James great front of store before we...          1  \n",
              "...                                                  ...        ...  \n",
              "21960  @dino_melaye I commend your efforts so far in ...          1  \n",
              "23905  Absolutely brilliant idea amp a great use of a...          1  \n",
              "25907  Afraid of tracking in the #coronavirus? Here a...          1  \n",
              "18987  @AmyPoythress I hope you &amp; your family rem...          1  \n",
              "15620  The markets aren t collapsing bc of democrats ...          1  \n",
              "\n",
              "[324 rows x 6 columns]"
            ],
            "text/html": [
              "\n",
              "  <div id=\"df-e0c63973-65b4-480c-bb32-7586554b7060\" class=\"colab-df-container\">\n",
              "    <div>\n",
              "<style scoped>\n",
              "    .dataframe tbody tr th:only-of-type {\n",
              "        vertical-align: middle;\n",
              "    }\n",
              "\n",
              "    .dataframe tbody tr th {\n",
              "        vertical-align: top;\n",
              "    }\n",
              "\n",
              "    .dataframe thead th {\n",
              "        text-align: right;\n",
              "    }\n",
              "</style>\n",
              "<table border=\"1\" class=\"dataframe\">\n",
              "  <thead>\n",
              "    <tr style=\"text-align: right;\">\n",
              "      <th></th>\n",
              "      <th>UserName</th>\n",
              "      <th>ScreenName</th>\n",
              "      <th>Location</th>\n",
              "      <th>TweetAt</th>\n",
              "      <th>OriginalTweet</th>\n",
              "      <th>Sentiment</th>\n",
              "    </tr>\n",
              "  </thead>\n",
              "  <tbody>\n",
              "    <tr>\n",
              "      <th>192</th>\n",
              "      <td>4035</td>\n",
              "      <td>48987</td>\n",
              "      <td>San Diego, CA</td>\n",
              "      <td>16-03-2020</td>\n",
              "      <td>What's a good way to support grocery store, me...</td>\n",
              "      <td>1</td>\n",
              "    </tr>\n",
              "    <tr>\n",
              "      <th>4066</th>\n",
              "      <td>8742</td>\n",
              "      <td>53694</td>\n",
              "      <td>Adelaide, South Australia</td>\n",
              "      <td>18-03-2020</td>\n",
              "      <td>BREAKING: WeÃÂre giving supermarkets the opt...</td>\n",
              "      <td>1</td>\n",
              "    </tr>\n",
              "    <tr>\n",
              "      <th>342</th>\n",
              "      <td>4219</td>\n",
              "      <td>49171</td>\n",
              "      <td>Boston, MA</td>\n",
              "      <td>16-03-2020</td>\n",
              "      <td>[THREAD] China's role in wildlife trade should...</td>\n",
              "      <td>1</td>\n",
              "    </tr>\n",
              "    <tr>\n",
              "      <th>21883</th>\n",
              "      <td>30511</td>\n",
              "      <td>75463</td>\n",
              "      <td>London</td>\n",
              "      <td>02-04-2020</td>\n",
              "      <td>Coronavirus career pivots: 'I now work in a su...</td>\n",
              "      <td>1</td>\n",
              "    </tr>\n",
              "    <tr>\n",
              "      <th>23519</th>\n",
              "      <td>32529</td>\n",
              "      <td>77481</td>\n",
              "      <td>Moulton, England</td>\n",
              "      <td>05-04-2020</td>\n",
              "      <td>Well done James great front of store before we...</td>\n",
              "      <td>1</td>\n",
              "    </tr>\n",
              "    <tr>\n",
              "      <th>...</th>\n",
              "      <td>...</td>\n",
              "      <td>...</td>\n",
              "      <td>...</td>\n",
              "      <td>...</td>\n",
              "      <td>...</td>\n",
              "      <td>...</td>\n",
              "    </tr>\n",
              "    <tr>\n",
              "      <th>21960</th>\n",
              "      <td>30608</td>\n",
              "      <td>75560</td>\n",
              "      <td>Unknown</td>\n",
              "      <td>02-04-2020</td>\n",
              "      <td>@dino_melaye I commend your efforts so far in ...</td>\n",
              "      <td>1</td>\n",
              "    </tr>\n",
              "    <tr>\n",
              "      <th>23905</th>\n",
              "      <td>33018</td>\n",
              "      <td>77970</td>\n",
              "      <td>Unknown</td>\n",
              "      <td>05-04-2020</td>\n",
              "      <td>Absolutely brilliant idea amp a great use of a...</td>\n",
              "      <td>1</td>\n",
              "    </tr>\n",
              "    <tr>\n",
              "      <th>25907</th>\n",
              "      <td>35528</td>\n",
              "      <td>80480</td>\n",
              "      <td>Bay Area</td>\n",
              "      <td>07-04-2020</td>\n",
              "      <td>Afraid of tracking in the #coronavirus? Here a...</td>\n",
              "      <td>1</td>\n",
              "    </tr>\n",
              "    <tr>\n",
              "      <th>18987</th>\n",
              "      <td>26911</td>\n",
              "      <td>71863</td>\n",
              "      <td>Unknown</td>\n",
              "      <td>25-03-2020</td>\n",
              "      <td>@AmyPoythress I hope you &amp;amp; your family rem...</td>\n",
              "      <td>1</td>\n",
              "    </tr>\n",
              "    <tr>\n",
              "      <th>15620</th>\n",
              "      <td>22797</td>\n",
              "      <td>67749</td>\n",
              "      <td>Unknown</td>\n",
              "      <td>24-03-2020</td>\n",
              "      <td>The markets aren t collapsing bc of democrats ...</td>\n",
              "      <td>1</td>\n",
              "    </tr>\n",
              "  </tbody>\n",
              "</table>\n",
              "<p>324 rows × 6 columns</p>\n",
              "</div>\n",
              "    <div class=\"colab-df-buttons\">\n",
              "\n",
              "  <div class=\"colab-df-container\">\n",
              "    <button class=\"colab-df-convert\" onclick=\"convertToInteractive('df-e0c63973-65b4-480c-bb32-7586554b7060')\"\n",
              "            title=\"Convert this dataframe to an interactive table.\"\n",
              "            style=\"display:none;\">\n",
              "\n",
              "  <svg xmlns=\"http://www.w3.org/2000/svg\" height=\"24px\" viewBox=\"0 -960 960 960\">\n",
              "    <path d=\"M120-120v-720h720v720H120Zm60-500h600v-160H180v160Zm220 220h160v-160H400v160Zm0 220h160v-160H400v160ZM180-400h160v-160H180v160Zm440 0h160v-160H620v160ZM180-180h160v-160H180v160Zm440 0h160v-160H620v160Z\"/>\n",
              "  </svg>\n",
              "    </button>\n",
              "\n",
              "  <style>\n",
              "    .colab-df-container {\n",
              "      display:flex;\n",
              "      gap: 12px;\n",
              "    }\n",
              "\n",
              "    .colab-df-convert {\n",
              "      background-color: #E8F0FE;\n",
              "      border: none;\n",
              "      border-radius: 50%;\n",
              "      cursor: pointer;\n",
              "      display: none;\n",
              "      fill: #1967D2;\n",
              "      height: 32px;\n",
              "      padding: 0 0 0 0;\n",
              "      width: 32px;\n",
              "    }\n",
              "\n",
              "    .colab-df-convert:hover {\n",
              "      background-color: #E2EBFA;\n",
              "      box-shadow: 0px 1px 2px rgba(60, 64, 67, 0.3), 0px 1px 3px 1px rgba(60, 64, 67, 0.15);\n",
              "      fill: #174EA6;\n",
              "    }\n",
              "\n",
              "    .colab-df-buttons div {\n",
              "      margin-bottom: 4px;\n",
              "    }\n",
              "\n",
              "    [theme=dark] .colab-df-convert {\n",
              "      background-color: #3B4455;\n",
              "      fill: #D2E3FC;\n",
              "    }\n",
              "\n",
              "    [theme=dark] .colab-df-convert:hover {\n",
              "      background-color: #434B5C;\n",
              "      box-shadow: 0px 1px 3px 1px rgba(0, 0, 0, 0.15);\n",
              "      filter: drop-shadow(0px 1px 2px rgba(0, 0, 0, 0.3));\n",
              "      fill: #FFFFFF;\n",
              "    }\n",
              "  </style>\n",
              "\n",
              "    <script>\n",
              "      const buttonEl =\n",
              "        document.querySelector('#df-e0c63973-65b4-480c-bb32-7586554b7060 button.colab-df-convert');\n",
              "      buttonEl.style.display =\n",
              "        google.colab.kernel.accessAllowed ? 'block' : 'none';\n",
              "\n",
              "      async function convertToInteractive(key) {\n",
              "        const element = document.querySelector('#df-e0c63973-65b4-480c-bb32-7586554b7060');\n",
              "        const dataTable =\n",
              "          await google.colab.kernel.invokeFunction('convertToInteractive',\n",
              "                                                    [key], {});\n",
              "        if (!dataTable) return;\n",
              "\n",
              "        const docLinkHtml = 'Like what you see? Visit the ' +\n",
              "          '<a target=\"_blank\" href=https://colab.research.google.com/notebooks/data_table.ipynb>data table notebook</a>'\n",
              "          + ' to learn more about interactive tables.';\n",
              "        element.innerHTML = '';\n",
              "        dataTable['output_type'] = 'display_data';\n",
              "        await google.colab.output.renderOutput(dataTable, element);\n",
              "        const docLink = document.createElement('div');\n",
              "        docLink.innerHTML = docLinkHtml;\n",
              "        element.appendChild(docLink);\n",
              "      }\n",
              "    </script>\n",
              "  </div>\n",
              "\n",
              "\n",
              "<div id=\"df-aa204303-6782-43b6-933d-fa6dc048925f\">\n",
              "  <button class=\"colab-df-quickchart\" onclick=\"quickchart('df-aa204303-6782-43b6-933d-fa6dc048925f')\"\n",
              "            title=\"Suggest charts\"\n",
              "            style=\"display:none;\">\n",
              "\n",
              "<svg xmlns=\"http://www.w3.org/2000/svg\" height=\"24px\"viewBox=\"0 0 24 24\"\n",
              "     width=\"24px\">\n",
              "    <g>\n",
              "        <path d=\"M19 3H5c-1.1 0-2 .9-2 2v14c0 1.1.9 2 2 2h14c1.1 0 2-.9 2-2V5c0-1.1-.9-2-2-2zM9 17H7v-7h2v7zm4 0h-2V7h2v10zm4 0h-2v-4h2v4z\"/>\n",
              "    </g>\n",
              "</svg>\n",
              "  </button>\n",
              "\n",
              "<style>\n",
              "  .colab-df-quickchart {\n",
              "      --bg-color: #E8F0FE;\n",
              "      --fill-color: #1967D2;\n",
              "      --hover-bg-color: #E2EBFA;\n",
              "      --hover-fill-color: #174EA6;\n",
              "      --disabled-fill-color: #AAA;\n",
              "      --disabled-bg-color: #DDD;\n",
              "  }\n",
              "\n",
              "  [theme=dark] .colab-df-quickchart {\n",
              "      --bg-color: #3B4455;\n",
              "      --fill-color: #D2E3FC;\n",
              "      --hover-bg-color: #434B5C;\n",
              "      --hover-fill-color: #FFFFFF;\n",
              "      --disabled-bg-color: #3B4455;\n",
              "      --disabled-fill-color: #666;\n",
              "  }\n",
              "\n",
              "  .colab-df-quickchart {\n",
              "    background-color: var(--bg-color);\n",
              "    border: none;\n",
              "    border-radius: 50%;\n",
              "    cursor: pointer;\n",
              "    display: none;\n",
              "    fill: var(--fill-color);\n",
              "    height: 32px;\n",
              "    padding: 0;\n",
              "    width: 32px;\n",
              "  }\n",
              "\n",
              "  .colab-df-quickchart:hover {\n",
              "    background-color: var(--hover-bg-color);\n",
              "    box-shadow: 0 1px 2px rgba(60, 64, 67, 0.3), 0 1px 3px 1px rgba(60, 64, 67, 0.15);\n",
              "    fill: var(--button-hover-fill-color);\n",
              "  }\n",
              "\n",
              "  .colab-df-quickchart-complete:disabled,\n",
              "  .colab-df-quickchart-complete:disabled:hover {\n",
              "    background-color: var(--disabled-bg-color);\n",
              "    fill: var(--disabled-fill-color);\n",
              "    box-shadow: none;\n",
              "  }\n",
              "\n",
              "  .colab-df-spinner {\n",
              "    border: 2px solid var(--fill-color);\n",
              "    border-color: transparent;\n",
              "    border-bottom-color: var(--fill-color);\n",
              "    animation:\n",
              "      spin 1s steps(1) infinite;\n",
              "  }\n",
              "\n",
              "  @keyframes spin {\n",
              "    0% {\n",
              "      border-color: transparent;\n",
              "      border-bottom-color: var(--fill-color);\n",
              "      border-left-color: var(--fill-color);\n",
              "    }\n",
              "    20% {\n",
              "      border-color: transparent;\n",
              "      border-left-color: var(--fill-color);\n",
              "      border-top-color: var(--fill-color);\n",
              "    }\n",
              "    30% {\n",
              "      border-color: transparent;\n",
              "      border-left-color: var(--fill-color);\n",
              "      border-top-color: var(--fill-color);\n",
              "      border-right-color: var(--fill-color);\n",
              "    }\n",
              "    40% {\n",
              "      border-color: transparent;\n",
              "      border-right-color: var(--fill-color);\n",
              "      border-top-color: var(--fill-color);\n",
              "    }\n",
              "    60% {\n",
              "      border-color: transparent;\n",
              "      border-right-color: var(--fill-color);\n",
              "    }\n",
              "    80% {\n",
              "      border-color: transparent;\n",
              "      border-right-color: var(--fill-color);\n",
              "      border-bottom-color: var(--fill-color);\n",
              "    }\n",
              "    90% {\n",
              "      border-color: transparent;\n",
              "      border-bottom-color: var(--fill-color);\n",
              "    }\n",
              "  }\n",
              "</style>\n",
              "\n",
              "  <script>\n",
              "    async function quickchart(key) {\n",
              "      const quickchartButtonEl =\n",
              "        document.querySelector('#' + key + ' button');\n",
              "      quickchartButtonEl.disabled = true;  // To prevent multiple clicks.\n",
              "      quickchartButtonEl.classList.add('colab-df-spinner');\n",
              "      try {\n",
              "        const charts = await google.colab.kernel.invokeFunction(\n",
              "            'suggestCharts', [key], {});\n",
              "      } catch (error) {\n",
              "        console.error('Error during call to suggestCharts:', error);\n",
              "      }\n",
              "      quickchartButtonEl.classList.remove('colab-df-spinner');\n",
              "      quickchartButtonEl.classList.add('colab-df-quickchart-complete');\n",
              "    }\n",
              "    (() => {\n",
              "      let quickchartButtonEl =\n",
              "        document.querySelector('#df-aa204303-6782-43b6-933d-fa6dc048925f button');\n",
              "      quickchartButtonEl.style.display =\n",
              "        google.colab.kernel.accessAllowed ? 'block' : 'none';\n",
              "    })();\n",
              "  </script>\n",
              "</div>\n",
              "    </div>\n",
              "  </div>\n"
            ],
            "application/vnd.google.colaboratory.intrinsic+json": {
              "type": "dataframe",
              "repr_error": "0"
            }
          },
          "metadata": {},
          "execution_count": 30
        }
      ],
      "source": [
        "train[train['OriginalTweet'].apply(lambda x: 'great' in x) & (train['Sentiment'] == 1)]"
      ]
    },
    {
      "cell_type": "markdown",
      "source": [
        "Выберем твит с индексом 21883"
      ],
      "metadata": {
        "id": "_a0mxjiDaDNq"
      }
    },
    {
      "cell_type": "code",
      "source": [
        "ind = 21883\n",
        "tweet_text = train.loc[ind]['OriginalTweet']\n",
        "\n",
        "tweet_text"
      ],
      "metadata": {
        "id": "jSjbKPCWk87K",
        "colab": {
          "base_uri": "https://localhost:8080/",
          "height": 36
        },
        "outputId": "2b92064d-1929-409b-b541-9e8b0a86f8a0"
      },
      "execution_count": 31,
      "outputs": [
        {
          "output_type": "execute_result",
          "data": {
            "text/plain": [
              "\"Coronavirus career pivots: 'I now work in a supermarket' great story. Make yourself useful #coronavirus #COVID19 #hope2020 https://t.co/KEn8gE7i4k\""
            ],
            "application/vnd.google.colaboratory.intrinsic+json": {
              "type": "string"
            }
          },
          "metadata": {},
          "execution_count": 31
        }
      ]
    },
    {
      "cell_type": "code",
      "source": [
        "text_tfidf_vectorized = tfidf_vectorizer.transform([tweet_text])\n",
        "\n",
        "text_tfidf_vector_array = text_tfidf_vectorized.toarray()[0]\n",
        "nonzero_indices_tfidf = text_tfidf_vectorized.nonzero()[1]\n",
        "\n",
        "vocab_tfidf = tfidf_vectorizer.get_feature_names_out()\n",
        "\n",
        "nonzero_pairs = zip(nonzero_indices_tfidf, vocab_tfidf[nonzero_indices_tfidf], text_tfidf_vector_array[nonzero_indices_tfidf])\n",
        "df_tfidf = pd.DataFrame(nonzero_pairs, columns=['Index', 'Token', 'Vectorized component value'])\n",
        "\n",
        "pd.set_option('display.precision', 3)\n",
        "display(df_tfidf)\n",
        "\n",
        "max_nonzero_index_tfidf = nonzero_indices_tfidf[np.argmax(text_tfidf_vector_array[nonzero_indices_tfidf])]\n",
        "min_nonzero_index_tfidf = nonzero_indices_tfidf[np.argmin(text_tfidf_vector_array[nonzero_indices_tfidf])]\n",
        "\n",
        "most_important_token_tfidf = vocab_tfidf[max_nonzero_index_tfidf]\n",
        "least_important_token_tfidf = vocab_tfidf[min_nonzero_index_tfidf]\n",
        "\n",
        "\n",
        "print(\"Most important token (TF-IDF):\", most_important_token_tfidf)\n",
        "print(\"Least important token (TF-IDF):\", least_important_token_tfidf)\n"
      ],
      "metadata": {
        "colab": {
          "base_uri": "https://localhost:8080/",
          "height": 461
        },
        "id": "CtK5ZKDkbiQv",
        "outputId": "c05366dc-0728-4bd0-f875-d30446a887b8"
      },
      "execution_count": 32,
      "outputs": [
        {
          "output_type": "display_data",
          "data": {
            "text/plain": [
              "    Index         Token  Vectorized component value\n",
              "0   44913          work                       0.199\n",
              "1   43733        useful                       0.339\n",
              "2   41558   supermarket                       0.132\n",
              "3   41221         story                       0.278\n",
              "4   35983        pivots                       0.423\n",
              "5   32282          make                       0.204\n",
              "6   28156         great                       0.233\n",
              "7   22939   coronavirus                       0.187\n",
              "8   21265        career                       0.423\n",
              "9    4066     #hope2020                       0.481\n",
              "10   1952      #covid19                       0.149\n",
              "11   1740  #coronavirus                       0.092"
            ],
            "text/html": [
              "\n",
              "  <div id=\"df-f408ca48-55da-4425-bfc1-7bd720b4264d\" class=\"colab-df-container\">\n",
              "    <div>\n",
              "<style scoped>\n",
              "    .dataframe tbody tr th:only-of-type {\n",
              "        vertical-align: middle;\n",
              "    }\n",
              "\n",
              "    .dataframe tbody tr th {\n",
              "        vertical-align: top;\n",
              "    }\n",
              "\n",
              "    .dataframe thead th {\n",
              "        text-align: right;\n",
              "    }\n",
              "</style>\n",
              "<table border=\"1\" class=\"dataframe\">\n",
              "  <thead>\n",
              "    <tr style=\"text-align: right;\">\n",
              "      <th></th>\n",
              "      <th>Index</th>\n",
              "      <th>Token</th>\n",
              "      <th>Vectorized component value</th>\n",
              "    </tr>\n",
              "  </thead>\n",
              "  <tbody>\n",
              "    <tr>\n",
              "      <th>0</th>\n",
              "      <td>44913</td>\n",
              "      <td>work</td>\n",
              "      <td>0.199</td>\n",
              "    </tr>\n",
              "    <tr>\n",
              "      <th>1</th>\n",
              "      <td>43733</td>\n",
              "      <td>useful</td>\n",
              "      <td>0.339</td>\n",
              "    </tr>\n",
              "    <tr>\n",
              "      <th>2</th>\n",
              "      <td>41558</td>\n",
              "      <td>supermarket</td>\n",
              "      <td>0.132</td>\n",
              "    </tr>\n",
              "    <tr>\n",
              "      <th>3</th>\n",
              "      <td>41221</td>\n",
              "      <td>story</td>\n",
              "      <td>0.278</td>\n",
              "    </tr>\n",
              "    <tr>\n",
              "      <th>4</th>\n",
              "      <td>35983</td>\n",
              "      <td>pivots</td>\n",
              "      <td>0.423</td>\n",
              "    </tr>\n",
              "    <tr>\n",
              "      <th>5</th>\n",
              "      <td>32282</td>\n",
              "      <td>make</td>\n",
              "      <td>0.204</td>\n",
              "    </tr>\n",
              "    <tr>\n",
              "      <th>6</th>\n",
              "      <td>28156</td>\n",
              "      <td>great</td>\n",
              "      <td>0.233</td>\n",
              "    </tr>\n",
              "    <tr>\n",
              "      <th>7</th>\n",
              "      <td>22939</td>\n",
              "      <td>coronavirus</td>\n",
              "      <td>0.187</td>\n",
              "    </tr>\n",
              "    <tr>\n",
              "      <th>8</th>\n",
              "      <td>21265</td>\n",
              "      <td>career</td>\n",
              "      <td>0.423</td>\n",
              "    </tr>\n",
              "    <tr>\n",
              "      <th>9</th>\n",
              "      <td>4066</td>\n",
              "      <td>#hope2020</td>\n",
              "      <td>0.481</td>\n",
              "    </tr>\n",
              "    <tr>\n",
              "      <th>10</th>\n",
              "      <td>1952</td>\n",
              "      <td>#covid19</td>\n",
              "      <td>0.149</td>\n",
              "    </tr>\n",
              "    <tr>\n",
              "      <th>11</th>\n",
              "      <td>1740</td>\n",
              "      <td>#coronavirus</td>\n",
              "      <td>0.092</td>\n",
              "    </tr>\n",
              "  </tbody>\n",
              "</table>\n",
              "</div>\n",
              "    <div class=\"colab-df-buttons\">\n",
              "\n",
              "  <div class=\"colab-df-container\">\n",
              "    <button class=\"colab-df-convert\" onclick=\"convertToInteractive('df-f408ca48-55da-4425-bfc1-7bd720b4264d')\"\n",
              "            title=\"Convert this dataframe to an interactive table.\"\n",
              "            style=\"display:none;\">\n",
              "\n",
              "  <svg xmlns=\"http://www.w3.org/2000/svg\" height=\"24px\" viewBox=\"0 -960 960 960\">\n",
              "    <path d=\"M120-120v-720h720v720H120Zm60-500h600v-160H180v160Zm220 220h160v-160H400v160Zm0 220h160v-160H400v160ZM180-400h160v-160H180v160Zm440 0h160v-160H620v160ZM180-180h160v-160H180v160Zm440 0h160v-160H620v160Z\"/>\n",
              "  </svg>\n",
              "    </button>\n",
              "\n",
              "  <style>\n",
              "    .colab-df-container {\n",
              "      display:flex;\n",
              "      gap: 12px;\n",
              "    }\n",
              "\n",
              "    .colab-df-convert {\n",
              "      background-color: #E8F0FE;\n",
              "      border: none;\n",
              "      border-radius: 50%;\n",
              "      cursor: pointer;\n",
              "      display: none;\n",
              "      fill: #1967D2;\n",
              "      height: 32px;\n",
              "      padding: 0 0 0 0;\n",
              "      width: 32px;\n",
              "    }\n",
              "\n",
              "    .colab-df-convert:hover {\n",
              "      background-color: #E2EBFA;\n",
              "      box-shadow: 0px 1px 2px rgba(60, 64, 67, 0.3), 0px 1px 3px 1px rgba(60, 64, 67, 0.15);\n",
              "      fill: #174EA6;\n",
              "    }\n",
              "\n",
              "    .colab-df-buttons div {\n",
              "      margin-bottom: 4px;\n",
              "    }\n",
              "\n",
              "    [theme=dark] .colab-df-convert {\n",
              "      background-color: #3B4455;\n",
              "      fill: #D2E3FC;\n",
              "    }\n",
              "\n",
              "    [theme=dark] .colab-df-convert:hover {\n",
              "      background-color: #434B5C;\n",
              "      box-shadow: 0px 1px 3px 1px rgba(0, 0, 0, 0.15);\n",
              "      filter: drop-shadow(0px 1px 2px rgba(0, 0, 0, 0.3));\n",
              "      fill: #FFFFFF;\n",
              "    }\n",
              "  </style>\n",
              "\n",
              "    <script>\n",
              "      const buttonEl =\n",
              "        document.querySelector('#df-f408ca48-55da-4425-bfc1-7bd720b4264d button.colab-df-convert');\n",
              "      buttonEl.style.display =\n",
              "        google.colab.kernel.accessAllowed ? 'block' : 'none';\n",
              "\n",
              "      async function convertToInteractive(key) {\n",
              "        const element = document.querySelector('#df-f408ca48-55da-4425-bfc1-7bd720b4264d');\n",
              "        const dataTable =\n",
              "          await google.colab.kernel.invokeFunction('convertToInteractive',\n",
              "                                                    [key], {});\n",
              "        if (!dataTable) return;\n",
              "\n",
              "        const docLinkHtml = 'Like what you see? Visit the ' +\n",
              "          '<a target=\"_blank\" href=https://colab.research.google.com/notebooks/data_table.ipynb>data table notebook</a>'\n",
              "          + ' to learn more about interactive tables.';\n",
              "        element.innerHTML = '';\n",
              "        dataTable['output_type'] = 'display_data';\n",
              "        await google.colab.output.renderOutput(dataTable, element);\n",
              "        const docLink = document.createElement('div');\n",
              "        docLink.innerHTML = docLinkHtml;\n",
              "        element.appendChild(docLink);\n",
              "      }\n",
              "    </script>\n",
              "  </div>\n",
              "\n",
              "\n",
              "<div id=\"df-67dba30a-ce9f-4646-acf0-28b8a850d489\">\n",
              "  <button class=\"colab-df-quickchart\" onclick=\"quickchart('df-67dba30a-ce9f-4646-acf0-28b8a850d489')\"\n",
              "            title=\"Suggest charts\"\n",
              "            style=\"display:none;\">\n",
              "\n",
              "<svg xmlns=\"http://www.w3.org/2000/svg\" height=\"24px\"viewBox=\"0 0 24 24\"\n",
              "     width=\"24px\">\n",
              "    <g>\n",
              "        <path d=\"M19 3H5c-1.1 0-2 .9-2 2v14c0 1.1.9 2 2 2h14c1.1 0 2-.9 2-2V5c0-1.1-.9-2-2-2zM9 17H7v-7h2v7zm4 0h-2V7h2v10zm4 0h-2v-4h2v4z\"/>\n",
              "    </g>\n",
              "</svg>\n",
              "  </button>\n",
              "\n",
              "<style>\n",
              "  .colab-df-quickchart {\n",
              "      --bg-color: #E8F0FE;\n",
              "      --fill-color: #1967D2;\n",
              "      --hover-bg-color: #E2EBFA;\n",
              "      --hover-fill-color: #174EA6;\n",
              "      --disabled-fill-color: #AAA;\n",
              "      --disabled-bg-color: #DDD;\n",
              "  }\n",
              "\n",
              "  [theme=dark] .colab-df-quickchart {\n",
              "      --bg-color: #3B4455;\n",
              "      --fill-color: #D2E3FC;\n",
              "      --hover-bg-color: #434B5C;\n",
              "      --hover-fill-color: #FFFFFF;\n",
              "      --disabled-bg-color: #3B4455;\n",
              "      --disabled-fill-color: #666;\n",
              "  }\n",
              "\n",
              "  .colab-df-quickchart {\n",
              "    background-color: var(--bg-color);\n",
              "    border: none;\n",
              "    border-radius: 50%;\n",
              "    cursor: pointer;\n",
              "    display: none;\n",
              "    fill: var(--fill-color);\n",
              "    height: 32px;\n",
              "    padding: 0;\n",
              "    width: 32px;\n",
              "  }\n",
              "\n",
              "  .colab-df-quickchart:hover {\n",
              "    background-color: var(--hover-bg-color);\n",
              "    box-shadow: 0 1px 2px rgba(60, 64, 67, 0.3), 0 1px 3px 1px rgba(60, 64, 67, 0.15);\n",
              "    fill: var(--button-hover-fill-color);\n",
              "  }\n",
              "\n",
              "  .colab-df-quickchart-complete:disabled,\n",
              "  .colab-df-quickchart-complete:disabled:hover {\n",
              "    background-color: var(--disabled-bg-color);\n",
              "    fill: var(--disabled-fill-color);\n",
              "    box-shadow: none;\n",
              "  }\n",
              "\n",
              "  .colab-df-spinner {\n",
              "    border: 2px solid var(--fill-color);\n",
              "    border-color: transparent;\n",
              "    border-bottom-color: var(--fill-color);\n",
              "    animation:\n",
              "      spin 1s steps(1) infinite;\n",
              "  }\n",
              "\n",
              "  @keyframes spin {\n",
              "    0% {\n",
              "      border-color: transparent;\n",
              "      border-bottom-color: var(--fill-color);\n",
              "      border-left-color: var(--fill-color);\n",
              "    }\n",
              "    20% {\n",
              "      border-color: transparent;\n",
              "      border-left-color: var(--fill-color);\n",
              "      border-top-color: var(--fill-color);\n",
              "    }\n",
              "    30% {\n",
              "      border-color: transparent;\n",
              "      border-left-color: var(--fill-color);\n",
              "      border-top-color: var(--fill-color);\n",
              "      border-right-color: var(--fill-color);\n",
              "    }\n",
              "    40% {\n",
              "      border-color: transparent;\n",
              "      border-right-color: var(--fill-color);\n",
              "      border-top-color: var(--fill-color);\n",
              "    }\n",
              "    60% {\n",
              "      border-color: transparent;\n",
              "      border-right-color: var(--fill-color);\n",
              "    }\n",
              "    80% {\n",
              "      border-color: transparent;\n",
              "      border-right-color: var(--fill-color);\n",
              "      border-bottom-color: var(--fill-color);\n",
              "    }\n",
              "    90% {\n",
              "      border-color: transparent;\n",
              "      border-bottom-color: var(--fill-color);\n",
              "    }\n",
              "  }\n",
              "</style>\n",
              "\n",
              "  <script>\n",
              "    async function quickchart(key) {\n",
              "      const quickchartButtonEl =\n",
              "        document.querySelector('#' + key + ' button');\n",
              "      quickchartButtonEl.disabled = true;  // To prevent multiple clicks.\n",
              "      quickchartButtonEl.classList.add('colab-df-spinner');\n",
              "      try {\n",
              "        const charts = await google.colab.kernel.invokeFunction(\n",
              "            'suggestCharts', [key], {});\n",
              "      } catch (error) {\n",
              "        console.error('Error during call to suggestCharts:', error);\n",
              "      }\n",
              "      quickchartButtonEl.classList.remove('colab-df-spinner');\n",
              "      quickchartButtonEl.classList.add('colab-df-quickchart-complete');\n",
              "    }\n",
              "    (() => {\n",
              "      let quickchartButtonEl =\n",
              "        document.querySelector('#df-67dba30a-ce9f-4646-acf0-28b8a850d489 button');\n",
              "      quickchartButtonEl.style.display =\n",
              "        google.colab.kernel.accessAllowed ? 'block' : 'none';\n",
              "    })();\n",
              "  </script>\n",
              "</div>\n",
              "    </div>\n",
              "  </div>\n"
            ],
            "application/vnd.google.colaboratory.intrinsic+json": {
              "type": "dataframe",
              "variable_name": "df_tfidf",
              "summary": "{\n  \"name\": \"df_tfidf\",\n  \"rows\": 12,\n  \"fields\": [\n    {\n      \"column\": \"Index\",\n      \"properties\": {\n        \"dtype\": \"int32\",\n        \"num_unique_values\": 12,\n        \"samples\": [\n          1952,\n          4066,\n          44913\n        ],\n        \"semantic_type\": \"\",\n        \"description\": \"\"\n      }\n    },\n    {\n      \"column\": \"Token\",\n      \"properties\": {\n        \"dtype\": \"string\",\n        \"num_unique_values\": 12,\n        \"samples\": [\n          \"#covid19\",\n          \"#hope2020\",\n          \"work\"\n        ],\n        \"semantic_type\": \"\",\n        \"description\": \"\"\n      }\n    },\n    {\n      \"column\": \"Vectorized component value\",\n      \"properties\": {\n        \"dtype\": \"number\",\n        \"std\": 0.12746782121038655,\n        \"min\": 0.09204571161702167,\n        \"max\": 0.48127226715847515,\n        \"num_unique_values\": 11,\n        \"samples\": [\n          0.2040280791940897,\n          0.19867244088547162,\n          0.1488309226244627\n        ],\n        \"semantic_type\": \"\",\n        \"description\": \"\"\n      }\n    }\n  ]\n}"
            }
          },
          "metadata": {}
        },
        {
          "output_type": "stream",
          "name": "stdout",
          "text": [
            "Most important token (TF-IDF): #hope2020\n",
            "Least important token (TF-IDF): #coronavirus\n"
          ]
        }
      ]
    },
    {
      "cell_type": "markdown",
      "metadata": {
        "id": "JTv9ST2_U6NA"
      },
      "source": [
        "**Ответ:** в данном твите TfidfVectorizer выделяет токен #hope2020 как наиболее важный. Этот токен дейстивтельно является очень важным (определяющим) для определения эмоциональной окраски твита: если человек упоминает в твите надежду, то скорее всего твит имеет положительную окраску."
      ]
    },
    {
      "cell_type": "markdown",
      "metadata": {
        "id": "JVEuZm8BHms6"
      },
      "source": [
        "## Задание 4 Обучение первых моделей (1 балл)"
      ]
    },
    {
      "cell_type": "markdown",
      "metadata": {
        "id": "JADkO3sfXdOG"
      },
      "source": [
        "Примените оба векторайзера для получения матриц с признаками текстов.  Выделите целевую переменную."
      ]
    },
    {
      "cell_type": "code",
      "execution_count": 33,
      "metadata": {
        "id": "DguoiXhCX2oN",
        "colab": {
          "base_uri": "https://localhost:8080/"
        },
        "outputId": "dba592d9-b40b-432e-92f7-a668f528846b"
      },
      "outputs": [
        {
          "output_type": "stream",
          "name": "stderr",
          "text": [
            "/usr/local/lib/python3.10/dist-packages/sklearn/feature_extraction/text.py:528: UserWarning: The parameter 'token_pattern' will not be used since 'tokenizer' is not None'\n",
            "  warnings.warn(\n"
          ]
        }
      ],
      "source": [
        "from sklearn.feature_extraction.text import CountVectorizer, TfidfVectorizer\n",
        "\n",
        "\n",
        "count_vectorizer = CountVectorizer(tokenizer=custom_tokenizer)\n",
        "X_train_count = count_vectorizer.fit_transform(X_train['OriginalTweet'])\n",
        "X_test_count = count_vectorizer.transform(X_test['OriginalTweet'])\n",
        "\n",
        "tfidf_vectorizer = TfidfVectorizer(tokenizer=custom_tokenizer)\n",
        "X_train_tfidf = tfidf_vectorizer.fit_transform(X_train['OriginalTweet'])\n",
        "X_test_tfidf = tfidf_vectorizer.transform(X_test['OriginalTweet'])"
      ]
    },
    {
      "cell_type": "markdown",
      "metadata": {
        "id": "_FX1KSOfYSx4"
      },
      "source": [
        "Обучите логистическую регрессию на векторах из обоих векторайзеров. Посчитайте долю правильных ответов на обучающих и тестовых данных. Какой векторайзер показал лучший результат? Что можно сказать о моделях?"
      ]
    },
    {
      "cell_type": "code",
      "execution_count": 34,
      "metadata": {
        "id": "-Tb3eh8UXJ6v",
        "colab": {
          "base_uri": "https://localhost:8080/"
        },
        "outputId": "a9099ae4-7bca-4321-cbd7-63c28bac1245"
      },
      "outputs": [
        {
          "output_type": "stream",
          "name": "stdout",
          "text": [
            "Accuracy on training data (CountVectorizer): 0.9844510892780863\n",
            "Accuracy on testing data (CountVectorizer): 0.8671516842734702\n",
            "Accuracy on training data (TfidfVectorizer): 0.9253737718923537\n",
            "Accuracy on testing data (TfidfVectorizer): 0.8531991229818616\n"
          ]
        }
      ],
      "source": [
        "from sklearn.linear_model import LogisticRegression\n",
        "from sklearn.metrics import accuracy_score\n",
        "\n",
        "logistic_regression_count = LogisticRegression(max_iter=1000)\n",
        "logistic_regression_tfidf = LogisticRegression(max_iter=1000)\n",
        "\n",
        "logistic_regression_count.fit(X_train_count, y_train)\n",
        "logistic_regression_tfidf.fit(X_train_tfidf, y_train)\n",
        "\n",
        "\n",
        "train_pred_count = logistic_regression_count.predict(X_train_count)\n",
        "test_pred_count = logistic_regression_count.predict(X_test_count)\n",
        "\n",
        "train_pred_tfidf = logistic_regression_tfidf.predict(X_train_tfidf)\n",
        "test_pred_tfidf = logistic_regression_tfidf.predict(X_test_tfidf)\n",
        "\n",
        "train_accuracy_count = accuracy_score(y_train, train_pred_count)\n",
        "test_accuracy_count = accuracy_score(y_test, test_pred_count)\n",
        "\n",
        "train_accuracy_tfidf = accuracy_score(y_train, train_pred_tfidf)\n",
        "test_accuracy_tfidf = accuracy_score(y_test, test_pred_tfidf)\n",
        "\n",
        "\n",
        "print(\"Accuracy on training data (CountVectorizer):\", train_accuracy_count)\n",
        "print(\"Accuracy on testing data (CountVectorizer):\", test_accuracy_count)\n",
        "print(\"Accuracy on training data (TfidfVectorizer):\", train_accuracy_tfidf)\n",
        "print(\"Accuracy on testing data (TfidfVectorizer):\", test_accuracy_tfidf)"
      ]
    },
    {
      "cell_type": "markdown",
      "metadata": {
        "id": "8y_wO7rCmv7K"
      },
      "source": [
        "**Ответ:** Лучший результат показал CountVectorizer - 0.984 и 0.867 для обучающей и тестовой выборок соответственно; для TfidfVectorizer эти значения составили 0.925 и 0.853  \n",
        "Разрыв в 0.117 между долей правильных ответов на обучающей и тестовой выборках может говорить, что модель обученная с помощью CountVectorizer является в некоторой степени переобученной. Аналогичный вывод можно сделать и про TfidfVectorizer, но в этом случае проблема переобученности выражена гораздо слабее  \n",
        "  \n",
        "В целом, обе модели показали хорошие результаты"
      ]
    },
    {
      "cell_type": "markdown",
      "metadata": {
        "id": "rSOR1i3mjrys"
      },
      "source": [
        "## Задание 5 Стемминг (0.5 балла)"
      ]
    },
    {
      "cell_type": "markdown",
      "metadata": {
        "id": "i6ONBWNPjuq-"
      },
      "source": [
        "Для уменьшения словаря можно использовать стемминг.\n",
        "\n",
        "Модифицируйте написанный токенайзер, добавив в него стемминг с использованием SnowballStemmer. Обучите Count- и Tfidf- векторайзеры. Как изменился размер словаря?"
      ]
    },
    {
      "cell_type": "code",
      "execution_count": 35,
      "metadata": {
        "id": "oVfA2-iMkQBb"
      },
      "outputs": [],
      "source": [
        "from nltk.stem import SnowballStemmer\n",
        "\n",
        "\n",
        "def custom_stem_tokenizer(text):\n",
        "    tokens = custom_tokenizer(text)\n",
        "    stemmer = SnowballStemmer('english')\n",
        "    stemmed_tokens = [stemmer.stem(token) for token in tokens]\n",
        "\n",
        "    return stemmed_tokens"
      ]
    },
    {
      "cell_type": "code",
      "execution_count": 36,
      "metadata": {
        "colab": {
          "base_uri": "https://localhost:8080/"
        },
        "id": "9QmrjYtqnlPd",
        "outputId": "ff14e41e-7d35-4321-dedd-38cc00faab4f"
      },
      "outputs": [
        {
          "output_type": "execute_result",
          "data": {
            "text/plain": [
              "['sampl', 'text', '@sample_text', '#sampletext', 'ad', 'word', 'check', 'stem']"
            ]
          },
          "metadata": {},
          "execution_count": 36
        }
      ],
      "source": [
        "custom_stem_tokenizer('This is sample text!!!! @Sample_text I, \\x92\\x92 https://t.co/sample  #sampletext adding more words to check stemming')"
      ]
    },
    {
      "cell_type": "code",
      "execution_count": 37,
      "metadata": {
        "colab": {
          "base_uri": "https://localhost:8080/"
        },
        "id": "zAvUTmaplzOS",
        "outputId": "05c4ddaa-1237-44d9-c853-19fdcb20a33c"
      },
      "outputs": [
        {
          "output_type": "stream",
          "name": "stderr",
          "text": [
            "/usr/local/lib/python3.10/dist-packages/sklearn/feature_extraction/text.py:528: UserWarning: The parameter 'token_pattern' will not be used since 'tokenizer' is not None'\n",
            "  warnings.warn(\n"
          ]
        },
        {
          "output_type": "stream",
          "name": "stdout",
          "text": [
            "36653\n"
          ]
        }
      ],
      "source": [
        "cv = CountVectorizer(tokenizer=custom_stem_tokenizer)\n",
        "cv.fit(X_train['OriginalTweet'])\n",
        "\n",
        "print(len(cv.vocabulary_))"
      ]
    },
    {
      "cell_type": "markdown",
      "metadata": {
        "id": "Oyzs5TaAoHP6"
      },
      "source": [
        "**Ответ**\n",
        "\n",
        "*   размер словаря без использования стемминга - 45309\n",
        "*   размер словаря с использованием стемминга - 36653\n",
        "\n",
        "Размер словаря ожидаемо уменьшился, так как формы одного и того же слова были приведены к некому общему основанию, а значит количество уникальных токенов сократилось\n",
        "\n",
        "\n"
      ]
    },
    {
      "cell_type": "markdown",
      "metadata": {
        "id": "1OkncHI8oRmd"
      },
      "source": [
        "Обучите логистическую регрессию с использованием обоих векторайзеров. Изменилось ли качество? Есть ли смысл применять стемминг?"
      ]
    },
    {
      "cell_type": "code",
      "source": [
        "count_vectorizer_stem = CountVectorizer(tokenizer=custom_stem_tokenizer)\n",
        "X_train_count_stem = count_vectorizer_stem.fit_transform(X_train['OriginalTweet'])\n",
        "X_test_count_stem = count_vectorizer_stem.transform(X_test['OriginalTweet'])\n",
        "\n",
        "tfidf_vectorizer_stem = TfidfVectorizer(tokenizer=custom_stem_tokenizer)\n",
        "X_train_tfidf_stem = tfidf_vectorizer_stem.fit_transform(X_train['OriginalTweet'])\n",
        "X_test_tfidf_stem = tfidf_vectorizer_stem.transform(X_test['OriginalTweet'])"
      ],
      "metadata": {
        "id": "mDc3DfU-4GYh"
      },
      "execution_count": 38,
      "outputs": []
    },
    {
      "cell_type": "code",
      "execution_count": 39,
      "metadata": {
        "id": "ykZJPphEoZ5W",
        "colab": {
          "base_uri": "https://localhost:8080/"
        },
        "outputId": "6591781a-cd39-4cf4-f780-789e24f0ef7e"
      },
      "outputs": [
        {
          "output_type": "stream",
          "name": "stdout",
          "text": [
            "Accuracy on training data (CountVectorizer): 0.9718496369073045\n",
            "Accuracy on testing data (CountVectorizer): 0.8672513454255532\n",
            "Accuracy on training data (TfidfVectorizer): 0.9158479282357966\n",
            "Accuracy on testing data (TfidfVectorizer): 0.8560892963922663\n"
          ]
        }
      ],
      "source": [
        "from sklearn.linear_model import LogisticRegression\n",
        "from sklearn.metrics import accuracy_score\n",
        "\n",
        "logistic_regression_count_stem = LogisticRegression(max_iter=1000)\n",
        "logistic_regression_tfidf_stem = LogisticRegression(max_iter=1000)\n",
        "\n",
        "logistic_regression_count_stem.fit(X_train_count_stem, y_train)\n",
        "logistic_regression_tfidf_stem.fit(X_train_tfidf_stem, y_train)\n",
        "\n",
        "\n",
        "train_pred_count_stem = logistic_regression_count_stem.predict(X_train_count_stem)\n",
        "test_pred_count_stem = logistic_regression_count_stem.predict(X_test_count_stem)\n",
        "\n",
        "train_pred_tfidf_stem = logistic_regression_tfidf_stem.predict(X_train_tfidf_stem)\n",
        "test_pred_tfidf_stem = logistic_regression_tfidf_stem.predict(X_test_tfidf_stem)\n",
        "\n",
        "train_accuracy_count_stem = accuracy_score(y_train, train_pred_count_stem)\n",
        "test_accuracy_count_stem = accuracy_score(y_test, test_pred_count_stem)\n",
        "\n",
        "train_accuracy_tfidf_stem = accuracy_score(y_train, train_pred_tfidf_stem)\n",
        "test_accuracy_tfidf_stem = accuracy_score(y_test, test_pred_tfidf_stem)\n",
        "\n",
        "\n",
        "print(\"Accuracy on training data (CountVectorizer):\", train_accuracy_count_stem)\n",
        "print(\"Accuracy on testing data (CountVectorizer):\", test_accuracy_count_stem)\n",
        "print(\"Accuracy on training data (TfidfVectorizer):\", train_accuracy_tfidf_stem)\n",
        "print(\"Accuracy on testing data (TfidfVectorizer):\", test_accuracy_tfidf_stem)"
      ]
    },
    {
      "cell_type": "markdown",
      "metadata": {
        "id": "bCRlrODro0h8"
      },
      "source": [
        "**Ответ:** Применение стемминга не дало заметного улучшения в качестве прогноза как на обучающей, так и на тестовой выборках. Тем не менее, использование стемминга может быть обосновано с той точки зрения, что теперь морфологически близкие токены в нашем словаре представлено меньшим количеством элементов - модель линейной регресси работает с меньшим числом параметров."
      ]
    },
    {
      "cell_type": "markdown",
      "metadata": {
        "id": "hYWGQNEDqLC-"
      },
      "source": [
        "## Задание  6 Работа с частотами (1.5 балла)"
      ]
    },
    {
      "cell_type": "markdown",
      "metadata": {
        "id": "8Hq-tl5mqUSn"
      },
      "source": [
        "Еще один способ уменьшить количество признаков - это использовать параметры min_df и max_df при построении векторайзера  эти параметры помогают ограничить требуемую частоту встречаемости токена в документах.\n",
        "\n",
        "По умолчанию берутся все токены, которые встретились хотя бы один раз.\n",
        "\n"
      ]
    },
    {
      "cell_type": "markdown",
      "metadata": {
        "id": "m1SiD4DE3WZ2"
      },
      "source": [
        "Подберите max_df такой, что размер словаря будет 36651 (на 1 меньше, чем было). Почему параметр получился такой большой/маленький?"
      ]
    },
    {
      "cell_type": "code",
      "source": [
        "cv_df = CountVectorizer(tokenizer=custom_stem_tokenizer, max_df=0.28).fit(X_train['OriginalTweet'])\n",
        "\n",
        "\n",
        "print(len(cv_df.vocabulary_))"
      ],
      "metadata": {
        "colab": {
          "base_uri": "https://localhost:8080/"
        },
        "id": "o3YLb8PViExb",
        "outputId": "74af16ae-7847-4abd-f947-79dca3057533"
      },
      "execution_count": 40,
      "outputs": [
        {
          "output_type": "stream",
          "name": "stderr",
          "text": [
            "/usr/local/lib/python3.10/dist-packages/sklearn/feature_extraction/text.py:528: UserWarning: The parameter 'token_pattern' will not be used since 'tokenizer' is not None'\n",
            "  warnings.warn(\n"
          ]
        },
        {
          "output_type": "stream",
          "name": "stdout",
          "text": [
            "36651\n"
          ]
        }
      ]
    },
    {
      "cell_type": "markdown",
      "metadata": {
        "id": "UdZYoGZR4UsA"
      },
      "source": [
        "**Ответ:** подобранное значение, про котором размер словаря равен 36651,- max_df = 0.28. Значение получилось относительно небольшим, потому что токены, встречающиеся более чем 25% твитов в целом редки (если не учитывать пунктуацию, предлоги и другие отсеченные нами токены, не несущие значительной смысловой нагрузки)"
      ]
    },
    {
      "cell_type": "markdown",
      "metadata": {
        "id": "_gRIUaB1u32f"
      },
      "source": [
        "Подберите min_df (используйте дефолтное значение max_df) в CountVectorizer таким образом, чтобы размер словаря был 3700 токенов (при использовании токенайзера со стеммингом), а качество осталось таким же, как и было. Что можно сказать о результатах?"
      ]
    },
    {
      "cell_type": "markdown",
      "source": [
        "Воспользуемся бинарным поиском для определения нужного значения min_df"
      ],
      "metadata": {
        "id": "GM7k2prlJvIp"
      }
    },
    {
      "cell_type": "code",
      "source": [
        "from sklearn.feature_extraction.text import CountVectorizer\n",
        "\n",
        "target_vocab_size = 3700\n",
        "\n",
        "left = 0\n",
        "right = 0.1\n",
        "tolerance = 1\n",
        "\n",
        "cv_df = CountVectorizer(tokenizer=custom_stem_tokenizer, min_df=right).fit(X_train['OriginalTweet'])\n",
        "vocab_size = len(cv_df.vocabulary_)\n",
        "\n",
        "while abs(vocab_size - target_vocab_size) > tolerance:\n",
        "    mid = (left + right) / 2\n",
        "\n",
        "    cv_df = CountVectorizer(tokenizer=custom_stem_tokenizer, min_df=mid).fit(X_train['OriginalTweet'])\n",
        "    vocab_size = len(cv_df.vocabulary_)\n",
        "\n",
        "    print(f\"min_df: {mid}, Dictionary size: {vocab_size}\")\n",
        "\n",
        "    if vocab_size < target_vocab_size:\n",
        "        right = mid\n",
        "    else:\n",
        "        left = mid\n",
        "\n",
        "\n",
        "optimal_min_df = (left + right) / 2\n",
        "\n",
        "print(\"\\nOptimal min_df value:\", optimal_min_df)\n"
      ],
      "metadata": {
        "colab": {
          "base_uri": "https://localhost:8080/"
        },
        "id": "Bm5-1inEFt3o",
        "outputId": "26eb200f-24a5-42bc-80f4-2583b763ebdf"
      },
      "execution_count": 41,
      "outputs": [
        {
          "output_type": "stream",
          "name": "stdout",
          "text": [
            "min_df: 0.05, Dictionary size: 35\n",
            "min_df: 0.025, Dictionary size: 102\n",
            "min_df: 0.0125, Dictionary size: 246\n",
            "min_df: 0.00625, Dictionary size: 538\n",
            "min_df: 0.003125, Dictionary size: 996\n",
            "min_df: 0.0015625, Dictionary size: 1662\n",
            "min_df: 0.00078125, Dictionary size: 2591\n",
            "min_df: 0.000390625, Dictionary size: 3931\n",
            "min_df: 0.0005859375000000001, Dictionary size: 3172\n",
            "min_df: 0.00048828125, Dictionary size: 3489\n",
            "min_df: 0.000439453125, Dictionary size: 3700\n",
            "\n",
            "Optimal min_df value: 0.0004638671875\n"
          ]
        }
      ]
    },
    {
      "cell_type": "markdown",
      "source": [
        "Проверим качество модели"
      ],
      "metadata": {
        "id": "eUSqbmo-KBxz"
      }
    },
    {
      "cell_type": "code",
      "source": [
        "count_vectorizer_stem = CountVectorizer(tokenizer=custom_stem_tokenizer, min_df=optimal_min_df)\n",
        "X_train_count_stem = count_vectorizer_stem.fit_transform(X_train['OriginalTweet'])\n",
        "X_test_count_stem = count_vectorizer_stem.transform(X_test['OriginalTweet'])\n",
        "\n",
        "tfidf_vectorizer_stem = TfidfVectorizer(tokenizer=custom_stem_tokenizer, min_df=optimal_min_df)\n",
        "X_train_tfidf_stem = tfidf_vectorizer_stem.fit_transform(X_train['OriginalTweet'])\n",
        "X_test_tfidf_stem = tfidf_vectorizer_stem.transform(X_test['OriginalTweet'])"
      ],
      "metadata": {
        "id": "mvMDwpdfjm8Y"
      },
      "execution_count": 42,
      "outputs": []
    },
    {
      "cell_type": "code",
      "source": [
        "from sklearn.linear_model import LogisticRegression\n",
        "from sklearn.metrics import accuracy_score\n",
        "\n",
        "logistic_regression_count_stem = LogisticRegression(max_iter=1000)\n",
        "logistic_regression_tfidf_stem = LogisticRegression(max_iter=1000)\n",
        "\n",
        "logistic_regression_count_stem.fit(X_train_count_stem, y_train)\n",
        "logistic_regression_tfidf_stem.fit(X_train_tfidf_stem, y_train)\n",
        "\n",
        "\n",
        "train_pred_count_stem = logistic_regression_count_stem.predict(X_train_count_stem)\n",
        "test_pred_count_stem = logistic_regression_count_stem.predict(X_test_count_stem)\n",
        "\n",
        "train_pred_tfidf_stem = logistic_regression_tfidf_stem.predict(X_train_tfidf_stem)\n",
        "test_pred_tfidf_stem = logistic_regression_tfidf_stem.predict(X_test_tfidf_stem)\n",
        "\n",
        "train_accuracy_count_stem = accuracy_score(y_train, train_pred_count_stem)\n",
        "test_accuracy_count_stem = accuracy_score(y_test, test_pred_count_stem)\n",
        "\n",
        "train_accuracy_tfidf_stem = accuracy_score(y_train, train_pred_tfidf_stem)\n",
        "test_accuracy_tfidf_stem = accuracy_score(y_test, test_pred_tfidf_stem)\n",
        "\n",
        "\n",
        "print(\"Accuracy on training data (CountVectorizer):\", train_accuracy_count_stem)\n",
        "print(\"Accuracy on testing data (CountVectorizer):\", test_accuracy_count_stem)\n",
        "print(\"Accuracy on training data (TfidfVectorizer):\", train_accuracy_tfidf_stem)\n",
        "print(\"Accuracy on testing data (TfidfVectorizer):\", test_accuracy_tfidf_stem)"
      ],
      "metadata": {
        "colab": {
          "base_uri": "https://localhost:8080/"
        },
        "id": "JXVx7bwqKJWt",
        "outputId": "ad57433c-ba89-420c-a33d-69cd5057c5a7"
      },
      "execution_count": 43,
      "outputs": [
        {
          "output_type": "stream",
          "name": "stdout",
          "text": [
            "Accuracy on training data (CountVectorizer): 0.9286629645450662\n",
            "Accuracy on testing data (CountVectorizer): 0.8680486346422165\n",
            "Accuracy on training data (TfidfVectorizer): 0.8976078598889363\n",
            "Accuracy on testing data (TfidfVectorizer): 0.8586804863464221\n"
          ]
        }
      ]
    },
    {
      "cell_type": "markdown",
      "metadata": {
        "id": "3fGYpUIZx0fk"
      },
      "source": [
        "**Ответ:** Качество модели не ухудшилось, при этом мы сократили число признаков, на который обучается линейная регрессия путём отсечения достаточно редких токенов"
      ]
    },
    {
      "cell_type": "markdown",
      "source": [
        "В предыдущих заданиях признаки не скалировались. Отскалируйте данные (при словаре размера 3.7 тысяч, векторизованные CountVectorizer), обучите логистическую регрессию, посмотрите качество и выведите `berplot` содержащий по 10 токенов, с наибольшим по модулю положительными/отрицательными весами. Что можно сказать об этих токенах?"
      ],
      "metadata": {
        "id": "Gx_h_-inKbBl"
      }
    },
    {
      "cell_type": "code",
      "source": [
        "X_train_count_stem.shape"
      ],
      "metadata": {
        "colab": {
          "base_uri": "https://localhost:8080/"
        },
        "id": "KER9-tsPNIZ-",
        "outputId": "be38efc7-3b98-4248-ea36-1f5d4d2ec602"
      },
      "execution_count": 44,
      "outputs": [
        {
          "output_type": "execute_result",
          "data": {
            "text/plain": [
              "(23410, 3700)"
            ]
          },
          "metadata": {},
          "execution_count": 44
        }
      ]
    },
    {
      "cell_type": "code",
      "source": [
        "from sklearn.preprocessing import StandardScaler\n",
        "\n",
        "\n",
        "scaler = StandardScaler(with_mean=False)\n",
        "X_train_scaled = scaler.fit_transform(X_train_count_stem)\n",
        "X_test_scaled = scaler.transform(X_test_count_stem)\n",
        "\n",
        "\n",
        "logistic_regression_scaled = LogisticRegression(max_iter=1000)\n",
        "logistic_regression_scaled.fit(X_train_scaled, y_train)\n",
        "\n",
        "\n",
        "weights = logistic_regression_scaled.coef_[0]\n",
        "\n",
        "\n",
        "top_positive_indices = weights.argsort()[-10:][::-1]\n",
        "top_negative_indices = weights.argsort()[:10]\n",
        "\n",
        "\n",
        "feature_names = np.array(cv_df.get_feature_names_out())\n",
        "\n",
        "top_positive_tokens = feature_names[top_positive_indices]\n",
        "top_negative_tokens = feature_names[top_negative_indices]\n",
        "\n",
        "top_positive_weights = weights[top_positive_indices]\n",
        "top_negative_weights = weights[top_negative_indices]\n",
        "\n",
        "\n",
        "print(\"Top 10 tokens with highest positive weights:\")\n",
        "print(top_positive_tokens)\n",
        "\n",
        "print(\"\\nTop 10 tokens with highest negative weights:\")\n",
        "print(top_negative_tokens)\n"
      ],
      "metadata": {
        "id": "KBATXJX6LG9q",
        "colab": {
          "base_uri": "https://localhost:8080/"
        },
        "outputId": "c6c211a8-b98f-4d3e-9669-74e07beb7ccd"
      },
      "execution_count": 45,
      "outputs": [
        {
          "output_type": "stream",
          "name": "stdout",
          "text": [
            "Top 10 tokens with highest positive weights:\n",
            "['hand' 'free' 'help' 'thank' 'like' 'best' 'pleas' 'great' 'safe'\n",
            " 'support']\n",
            "\n",
            "Top 10 tokens with highest negative weights:\n",
            "['crisi' 'panic' 'scam' 'kill' 'crude' 'stop' 'fear' 'emerg' 'wtf' 'fight']\n"
          ]
        }
      ]
    },
    {
      "cell_type": "code",
      "source": [
        "plt.figure(figsize=(10, 6))\n",
        "plt.barh(top_positive_tokens, top_positive_weights, color='blue', alpha=0.6, label='Positive Weights')\n",
        "plt.barh(top_negative_tokens, top_negative_weights, color='red', alpha=0.6, label='Negative Weights')\n",
        "plt.xlabel('Weight')\n",
        "plt.ylabel('Token')\n",
        "plt.title('Top 10 Tokens with Highest Absolute Weights')\n",
        "plt.legend()\n",
        "plt.gca().invert_yaxis()\n",
        "plt.show()"
      ],
      "metadata": {
        "colab": {
          "base_uri": "https://localhost:8080/",
          "height": 564
        },
        "id": "z9VvKO3WN7vL",
        "outputId": "510283ab-b721-476a-f54d-d4b55cd0491f"
      },
      "execution_count": 46,
      "outputs": [
        {
          "output_type": "display_data",
          "data": {
            "text/plain": [
              "<Figure size 1000x600 with 1 Axes>"
            ],
            "image/png": "[encoded data removed]"
          },
          "metadata": {}
        }
      ]
    },
    {
      "cell_type": "markdown",
      "source": [
        "**Ответ:** можно заметить, что токены с наибольшими по модулю весами хорошо согласуются с общепринятыми представлениями об эмоциональной окраске текста, так среди токенов с сильно отрицательными весами мы видим ругательства, слова, наводящие панику и в целом негативно окрашенную лексику и наоборот - токены с наибольшим положительным весом ассоциированы с чем-то более приятным и внушающим уверенность: благодарности ('pleas', 'thank'), упоминания помощи ('help', 'support'), слова, сигнализирующие об удовлетворенности ситуацией ('like', 'best', 'great', 'safe')"
      ],
      "metadata": {
        "id": "ThcEfzY1LHET"
      }
    },
    {
      "cell_type": "markdown",
      "metadata": {
        "id": "ktJVOdrIHq7B"
      },
      "source": [
        "## Задание 7 Другие признаки (1.5 балла)"
      ]
    },
    {
      "cell_type": "markdown",
      "metadata": {
        "id": "Yt3jRCZ2H0Og"
      },
      "source": [
        "Мы были сконцентрированы на работе с текстами твиттов и не использовали другие признаки - имена пользователя, дату и местоположение"
      ]
    },
    {
      "cell_type": "markdown",
      "metadata": {
        "id": "52wjewCCo_di"
      },
      "source": [
        "Изучите признаки UserName и ScreenName. полезны ли они? Если полезны, то закодируйте их, добавьте к матрице с отскалированными признаками, обучите логистическую регрессию, замерьте качество."
      ]
    },
    {
      "cell_type": "markdown",
      "source": [
        "Признаки UserName и ScreenName представляют собой имя пользователя и отображаемое имя пользователя, закодированные в числа неким образом. Обычно имя пользователя не представляет особого инетереса для анализа, а в нашем случае эти данные ещё и закодированы неким образом, про который мы ничего не знаем, поэтому скорее всего данные признаки не будут полезны в нашем исследовании.  \n",
        "\n",
        "Не до конца понятно о каком дальнейшем кодировании этих признаков идёт речь, если они уже представлены в виде чисел. Можно лишь попробовать отмасштабировать их."
      ],
      "metadata": {
        "id": "zten0Tw6RoU9"
      }
    },
    {
      "cell_type": "markdown",
      "source": [
        "На всякий случай всё равно обучим модель с этими признаками и посмотрим на результаты"
      ],
      "metadata": {
        "id": "HvakSgvKTW24"
      }
    },
    {
      "cell_type": "code",
      "execution_count": 47,
      "metadata": {
        "id": "63thouYZptj6"
      },
      "outputs": [],
      "source": [
        "from scipy.sparse import hstack\n",
        "\n",
        "user_screen_features_train = X_train[['UserName', 'ScreenName']]\n",
        "user_screen_features_test = X_test[['UserName', 'ScreenName']]\n",
        "\n",
        "X_train_combined = hstack([X_train_scaled, user_screen_features_train])\n",
        "X_test_combined = hstack([X_test_scaled, user_screen_features_test])"
      ]
    },
    {
      "cell_type": "code",
      "source": [
        "logistic_regression_combined = LogisticRegression(max_iter=1000)\n",
        "logistic_regression_combined.fit(X_train_combined, y_train)\n",
        "\n",
        "\n",
        "train_pred_combined = logistic_regression_combined.predict(X_train_combined)\n",
        "test_pred_combined = logistic_regression_combined.predict(X_test_combined)\n",
        "\n",
        "\n",
        "train_accuracy_combined = accuracy_score(y_train, train_pred_combined)\n",
        "test_accuracy_combined = accuracy_score(y_test, test_pred_combined)\n",
        "\n",
        "print(\"Accuracy on train data with combined features:\", train_accuracy_combined)\n",
        "print(\"Accuracy on test data with combined features:\", test_accuracy_combined)"
      ],
      "metadata": {
        "colab": {
          "base_uri": "https://localhost:8080/"
        },
        "id": "y4lP1hSdT4XB",
        "outputId": "9588f0aa-d033-4575-af45-91b888b6b1c8"
      },
      "execution_count": 48,
      "outputs": [
        {
          "output_type": "stream",
          "name": "stdout",
          "text": [
            "Accuracy on train data with combined features: 0.9237078171721487\n",
            "Accuracy on test data with combined features: 0.8517042057006179\n"
          ]
        }
      ]
    },
    {
      "cell_type": "markdown",
      "metadata": {
        "id": "r8_qR-gnpT3a"
      },
      "source": [
        "**Ответ:** Чуда не произошло - качество модели не улучшилось, а значит признаки UserName и ScreenName бесполезны для нашей модели"
      ]
    },
    {
      "cell_type": "markdown",
      "metadata": {
        "id": "ythEcFSkt7y3"
      },
      "source": [
        "Изучите признак TweetAt в обучающей выборке: преобразуйте его к типу datetime и нарисуйте его гистограмму с разделением по цвету на оспнове целевой переменной. Полезен ли он? Если полезен, то закодируйте его, добавьте к матрице с отскалированными признаками, обучите логистическую регрессию, замерьте качество."
      ]
    },
    {
      "cell_type": "code",
      "source": [
        "X_train['TweetAt'] = pd.to_datetime(X_train['TweetAt'], format='mixed')\n",
        "X_test['TweetAt'] = pd.to_datetime(X_test['TweetAt'], format='mixed')"
      ],
      "metadata": {
        "id": "Lxb_k0JLirNv"
      },
      "execution_count": 49,
      "outputs": []
    },
    {
      "cell_type": "code",
      "source": [
        "import matplotlib.pyplot as plt\n",
        "import calendar\n",
        "\n",
        "X_train['Month'] = X_train['TweetAt'].dt.month\n",
        "\n",
        "plt.figure(figsize=(12, 6))\n",
        "for sentiment in y_train.unique():\n",
        "    plt.hist(X_train[y_train == sentiment]['Month'], bins=12, alpha=0.5, label=f'Sentiment {sentiment}')\n",
        "\n",
        "plt.xlabel('Month')\n",
        "plt.ylabel('Frequency')\n",
        "plt.legend()\n",
        "plt.title('Distribution of Tweets by Month and Sentiment')\n",
        "\n",
        "\n",
        "plt.xticks(ticks=range(1, 13), labels=[calendar.month_name[i] for i in range(1, 13)])\n",
        "plt.show()\n"
      ],
      "metadata": {
        "colab": {
          "base_uri": "https://localhost:8080/",
          "height": 564
        },
        "id": "yWnagnSFV7tU",
        "outputId": "0bcd188c-1430-4735-cd12-8d1542e7182f"
      },
      "execution_count": 52,
      "outputs": [
        {
          "output_type": "display_data",
          "data": {
            "text/plain": [
              "<Figure size 1200x600 with 1 Axes>"
            ],
            "image/png": "[encoded data removed]"
          },
          "metadata": {}
        }
      ]
    },
    {
      "cell_type": "code",
      "source": [
        "X_train['Month'] = X_train['TweetAt'].dt.month\n",
        "\n",
        "class_ratios = pd.DataFrame(index=range(1, 13), columns=['Positive', 'Negative', 'Positive to negative ratio'])\n",
        "for month in range(1, 13):\n",
        "    total_count = X_train[X_train['Month'] == month].shape[0]\n",
        "    if total_count > 0:\n",
        "        class_ratios.loc[month, 'Positive'] = (y_train[X_train['Month'] == month] == 1).sum() / total_count\n",
        "        class_ratios.loc[month, 'Negative'] = (y_train[X_train['Month'] == month] == 0).sum() / total_count\n",
        "        class_ratios.loc[month, 'Positive to negative ratio'] = class_ratios.loc[month, 'Positive'] / class_ratios.loc[month, 'Negative']\n",
        "\n",
        "\n",
        "display(class_ratios)\n"
      ],
      "metadata": {
        "colab": {
          "base_uri": "https://localhost:8080/",
          "height": 425
        },
        "id": "4wBoLB09WvZM",
        "outputId": "6dd8c29b-1827-4ef5-d5e1-a354cb02c8c5"
      },
      "execution_count": 55,
      "outputs": [
        {
          "output_type": "display_data",
          "data": {
            "text/plain": [
              "   Positive Negative Positive to negative ratio\n",
              "1      0.51     0.49                      1.041\n",
              "2     0.516    0.484                      1.065\n",
              "3     0.522    0.478                      1.092\n",
              "4     0.578    0.422                      1.367\n",
              "5     0.559    0.441                      1.266\n",
              "6     0.539    0.461                      1.168\n",
              "7     0.554    0.446                      1.244\n",
              "8      0.58     0.42                      1.378\n",
              "9     0.599    0.401                      1.491\n",
              "10    0.585    0.415                      1.412\n",
              "11    0.587    0.413                      1.422\n",
              "12    0.543    0.457                      1.186"
            ],
            "text/html": [
              "\n",
              "  <div id=\"df-0d3edba0-ad52-4969-a645-8cd14be39b17\" class=\"colab-df-container\">\n",
              "    <div>\n",
              "<style scoped>\n",
              "    .dataframe tbody tr th:only-of-type {\n",
              "        vertical-align: middle;\n",
              "    }\n",
              "\n",
              "    .dataframe tbody tr th {\n",
              "        vertical-align: top;\n",
              "    }\n",
              "\n",
              "    .dataframe thead th {\n",
              "        text-align: right;\n",
              "    }\n",
              "</style>\n",
              "<table border=\"1\" class=\"dataframe\">\n",
              "  <thead>\n",
              "    <tr style=\"text-align: right;\">\n",
              "      <th></th>\n",
              "      <th>Positive</th>\n",
              "      <th>Negative</th>\n",
              "      <th>Positive to negative ratio</th>\n",
              "    </tr>\n",
              "  </thead>\n",
              "  <tbody>\n",
              "    <tr>\n",
              "      <th>1</th>\n",
              "      <td>0.51</td>\n",
              "      <td>0.49</td>\n",
              "      <td>1.041</td>\n",
              "    </tr>\n",
              "    <tr>\n",
              "      <th>2</th>\n",
              "      <td>0.516</td>\n",
              "      <td>0.484</td>\n",
              "      <td>1.065</td>\n",
              "    </tr>\n",
              "    <tr>\n",
              "      <th>3</th>\n",
              "      <td>0.522</td>\n",
              "      <td>0.478</td>\n",
              "      <td>1.092</td>\n",
              "    </tr>\n",
              "    <tr>\n",
              "      <th>4</th>\n",
              "      <td>0.578</td>\n",
              "      <td>0.422</td>\n",
              "      <td>1.367</td>\n",
              "    </tr>\n",
              "    <tr>\n",
              "      <th>5</th>\n",
              "      <td>0.559</td>\n",
              "      <td>0.441</td>\n",
              "      <td>1.266</td>\n",
              "    </tr>\n",
              "    <tr>\n",
              "      <th>6</th>\n",
              "      <td>0.539</td>\n",
              "      <td>0.461</td>\n",
              "      <td>1.168</td>\n",
              "    </tr>\n",
              "    <tr>\n",
              "      <th>7</th>\n",
              "      <td>0.554</td>\n",
              "      <td>0.446</td>\n",
              "      <td>1.244</td>\n",
              "    </tr>\n",
              "    <tr>\n",
              "      <th>8</th>\n",
              "      <td>0.58</td>\n",
              "      <td>0.42</td>\n",
              "      <td>1.378</td>\n",
              "    </tr>\n",
              "    <tr>\n",
              "      <th>9</th>\n",
              "      <td>0.599</td>\n",
              "      <td>0.401</td>\n",
              "      <td>1.491</td>\n",
              "    </tr>\n",
              "    <tr>\n",
              "      <th>10</th>\n",
              "      <td>0.585</td>\n",
              "      <td>0.415</td>\n",
              "      <td>1.412</td>\n",
              "    </tr>\n",
              "    <tr>\n",
              "      <th>11</th>\n",
              "      <td>0.587</td>\n",
              "      <td>0.413</td>\n",
              "      <td>1.422</td>\n",
              "    </tr>\n",
              "    <tr>\n",
              "      <th>12</th>\n",
              "      <td>0.543</td>\n",
              "      <td>0.457</td>\n",
              "      <td>1.186</td>\n",
              "    </tr>\n",
              "  </tbody>\n",
              "</table>\n",
              "</div>\n",
              "    <div class=\"colab-df-buttons\">\n",
              "\n",
              "  <div class=\"colab-df-container\">\n",
              "    <button class=\"colab-df-convert\" onclick=\"convertToInteractive('df-0d3edba0-ad52-4969-a645-8cd14be39b17')\"\n",
              "            title=\"Convert this dataframe to an interactive table.\"\n",
              "            style=\"display:none;\">\n",
              "\n",
              "  <svg xmlns=\"http://www.w3.org/2000/svg\" height=\"24px\" viewBox=\"0 -960 960 960\">\n",
              "    <path d=\"M120-120v-720h720v720H120Zm60-500h600v-160H180v160Zm220 220h160v-160H400v160Zm0 220h160v-160H400v160ZM180-400h160v-160H180v160Zm440 0h160v-160H620v160ZM180-180h160v-160H180v160Zm440 0h160v-160H620v160Z\"/>\n",
              "  </svg>\n",
              "    </button>\n",
              "\n",
              "  <style>\n",
              "    .colab-df-container {\n",
              "      display:flex;\n",
              "      gap: 12px;\n",
              "    }\n",
              "\n",
              "    .colab-df-convert {\n",
              "      background-color: #E8F0FE;\n",
              "      border: none;\n",
              "      border-radius: 50%;\n",
              "      cursor: pointer;\n",
              "      display: none;\n",
              "      fill: #1967D2;\n",
              "      height: 32px;\n",
              "      padding: 0 0 0 0;\n",
              "      width: 32px;\n",
              "    }\n",
              "\n",
              "    .colab-df-convert:hover {\n",
              "      background-color: #E2EBFA;\n",
              "      box-shadow: 0px 1px 2px rgba(60, 64, 67, 0.3), 0px 1px 3px 1px rgba(60, 64, 67, 0.15);\n",
              "      fill: #174EA6;\n",
              "    }\n",
              "\n",
              "    .colab-df-buttons div {\n",
              "      margin-bottom: 4px;\n",
              "    }\n",
              "\n",
              "    [theme=dark] .colab-df-convert {\n",
              "      background-color: #3B4455;\n",
              "      fill: #D2E3FC;\n",
              "    }\n",
              "\n",
              "    [theme=dark] .colab-df-convert:hover {\n",
              "      background-color: #434B5C;\n",
              "      box-shadow: 0px 1px 3px 1px rgba(0, 0, 0, 0.15);\n",
              "      filter: drop-shadow(0px 1px 2px rgba(0, 0, 0, 0.3));\n",
              "      fill: #FFFFFF;\n",
              "    }\n",
              "  </style>\n",
              "\n",
              "    <script>\n",
              "      const buttonEl =\n",
              "        document.querySelector('#df-0d3edba0-ad52-4969-a645-8cd14be39b17 button.colab-df-convert');\n",
              "      buttonEl.style.display =\n",
              "        google.colab.kernel.accessAllowed ? 'block' : 'none';\n",
              "\n",
              "      async function convertToInteractive(key) {\n",
              "        const element = document.querySelector('#df-0d3edba0-ad52-4969-a645-8cd14be39b17');\n",
              "        const dataTable =\n",
              "          await google.colab.kernel.invokeFunction('convertToInteractive',\n",
              "                                                    [key], {});\n",
              "        if (!dataTable) return;\n",
              "\n",
              "        const docLinkHtml = 'Like what you see? Visit the ' +\n",
              "          '<a target=\"_blank\" href=https://colab.research.google.com/notebooks/data_table.ipynb>data table notebook</a>'\n",
              "          + ' to learn more about interactive tables.';\n",
              "        element.innerHTML = '';\n",
              "        dataTable['output_type'] = 'display_data';\n",
              "        await google.colab.output.renderOutput(dataTable, element);\n",
              "        const docLink = document.createElement('div');\n",
              "        docLink.innerHTML = docLinkHtml;\n",
              "        element.appendChild(docLink);\n",
              "      }\n",
              "    </script>\n",
              "  </div>\n",
              "\n",
              "\n",
              "<div id=\"df-0f04f285-3516-41c6-8566-352f52da2ab3\">\n",
              "  <button class=\"colab-df-quickchart\" onclick=\"quickchart('df-0f04f285-3516-41c6-8566-352f52da2ab3')\"\n",
              "            title=\"Suggest charts\"\n",
              "            style=\"display:none;\">\n",
              "\n",
              "<svg xmlns=\"http://www.w3.org/2000/svg\" height=\"24px\"viewBox=\"0 0 24 24\"\n",
              "     width=\"24px\">\n",
              "    <g>\n",
              "        <path d=\"M19 3H5c-1.1 0-2 .9-2 2v14c0 1.1.9 2 2 2h14c1.1 0 2-.9 2-2V5c0-1.1-.9-2-2-2zM9 17H7v-7h2v7zm4 0h-2V7h2v10zm4 0h-2v-4h2v4z\"/>\n",
              "    </g>\n",
              "</svg>\n",
              "  </button>\n",
              "\n",
              "<style>\n",
              "  .colab-df-quickchart {\n",
              "      --bg-color: #E8F0FE;\n",
              "      --fill-color: #1967D2;\n",
              "      --hover-bg-color: #E2EBFA;\n",
              "      --hover-fill-color: #174EA6;\n",
              "      --disabled-fill-color: #AAA;\n",
              "      --disabled-bg-color: #DDD;\n",
              "  }\n",
              "\n",
              "  [theme=dark] .colab-df-quickchart {\n",
              "      --bg-color: #3B4455;\n",
              "      --fill-color: #D2E3FC;\n",
              "      --hover-bg-color: #434B5C;\n",
              "      --hover-fill-color: #FFFFFF;\n",
              "      --disabled-bg-color: #3B4455;\n",
              "      --disabled-fill-color: #666;\n",
              "  }\n",
              "\n",
              "  .colab-df-quickchart {\n",
              "    background-color: var(--bg-color);\n",
              "    border: none;\n",
              "    border-radius: 50%;\n",
              "    cursor: pointer;\n",
              "    display: none;\n",
              "    fill: var(--fill-color);\n",
              "    height: 32px;\n",
              "    padding: 0;\n",
              "    width: 32px;\n",
              "  }\n",
              "\n",
              "  .colab-df-quickchart:hover {\n",
              "    background-color: var(--hover-bg-color);\n",
              "    box-shadow: 0 1px 2px rgba(60, 64, 67, 0.3), 0 1px 3px 1px rgba(60, 64, 67, 0.15);\n",
              "    fill: var(--button-hover-fill-color);\n",
              "  }\n",
              "\n",
              "  .colab-df-quickchart-complete:disabled,\n",
              "  .colab-df-quickchart-complete:disabled:hover {\n",
              "    background-color: var(--disabled-bg-color);\n",
              "    fill: var(--disabled-fill-color);\n",
              "    box-shadow: none;\n",
              "  }\n",
              "\n",
              "  .colab-df-spinner {\n",
              "    border: 2px solid var(--fill-color);\n",
              "    border-color: transparent;\n",
              "    border-bottom-color: var(--fill-color);\n",
              "    animation:\n",
              "      spin 1s steps(1) infinite;\n",
              "  }\n",
              "\n",
              "  @keyframes spin {\n",
              "    0% {\n",
              "      border-color: transparent;\n",
              "      border-bottom-color: var(--fill-color);\n",
              "      border-left-color: var(--fill-color);\n",
              "    }\n",
              "    20% {\n",
              "      border-color: transparent;\n",
              "      border-left-color: var(--fill-color);\n",
              "      border-top-color: var(--fill-color);\n",
              "    }\n",
              "    30% {\n",
              "      border-color: transparent;\n",
              "      border-left-color: var(--fill-color);\n",
              "      border-top-color: var(--fill-color);\n",
              "      border-right-color: var(--fill-color);\n",
              "    }\n",
              "    40% {\n",
              "      border-color: transparent;\n",
              "      border-right-color: var(--fill-color);\n",
              "      border-top-color: var(--fill-color);\n",
              "    }\n",
              "    60% {\n",
              "      border-color: transparent;\n",
              "      border-right-color: var(--fill-color);\n",
              "    }\n",
              "    80% {\n",
              "      border-color: transparent;\n",
              "      border-right-color: var(--fill-color);\n",
              "      border-bottom-color: var(--fill-color);\n",
              "    }\n",
              "    90% {\n",
              "      border-color: transparent;\n",
              "      border-bottom-color: var(--fill-color);\n",
              "    }\n",
              "  }\n",
              "</style>\n",
              "\n",
              "  <script>\n",
              "    async function quickchart(key) {\n",
              "      const quickchartButtonEl =\n",
              "        document.querySelector('#' + key + ' button');\n",
              "      quickchartButtonEl.disabled = true;  // To prevent multiple clicks.\n",
              "      quickchartButtonEl.classList.add('colab-df-spinner');\n",
              "      try {\n",
              "        const charts = await google.colab.kernel.invokeFunction(\n",
              "            'suggestCharts', [key], {});\n",
              "      } catch (error) {\n",
              "        console.error('Error during call to suggestCharts:', error);\n",
              "      }\n",
              "      quickchartButtonEl.classList.remove('colab-df-spinner');\n",
              "      quickchartButtonEl.classList.add('colab-df-quickchart-complete');\n",
              "    }\n",
              "    (() => {\n",
              "      let quickchartButtonEl =\n",
              "        document.querySelector('#df-0f04f285-3516-41c6-8566-352f52da2ab3 button');\n",
              "      quickchartButtonEl.style.display =\n",
              "        google.colab.kernel.accessAllowed ? 'block' : 'none';\n",
              "    })();\n",
              "  </script>\n",
              "</div>\n",
              "    </div>\n",
              "  </div>\n"
            ],
            "application/vnd.google.colaboratory.intrinsic+json": {
              "type": "dataframe",
              "variable_name": "class_ratios",
              "repr_error": "0"
            }
          },
          "metadata": {}
        }
      ]
    },
    {
      "cell_type": "markdown",
      "source": [
        "Добавим номер месяца к матрице с признаками и обучим модель"
      ],
      "metadata": {
        "id": "3sPup0ab1AHY"
      }
    },
    {
      "cell_type": "code",
      "source": [
        "from scipy.sparse import hstack\n",
        "\n",
        "\n",
        "X_train['Month'] = X_train['TweetAt'].dt.month\n",
        "X_test['Month'] = X_test['TweetAt'].dt.month\n",
        "\n",
        "\n",
        "X_train_combined = hstack([X_train_scaled, X_train[['Month']]])\n",
        "X_test_combined = hstack([X_test_scaled, X_test[['Month']]])\n",
        "\n",
        "logistic_regression_combined = LogisticRegression(max_iter=1000)\n",
        "logistic_regression_combined.fit(X_train_combined, y_train)\n",
        "\n",
        "\n",
        "train_pred_combined = logistic_regression_combined.predict(X_train_combined)\n",
        "test_pred_combined = logistic_regression_combined.predict(X_test_combined)\n",
        "\n",
        "\n",
        "train_accuracy_combined = accuracy_score(y_train, train_pred_combined)\n",
        "test_accuracy_combined = accuracy_score(y_test, test_pred_combined)\n",
        "\n",
        "\n",
        "print(\"Accuracy on train data with combined features:\", train_accuracy_combined)\n",
        "print(\"Accuracy on test data with combined features:\", test_accuracy_combined)"
      ],
      "metadata": {
        "colab": {
          "base_uri": "https://localhost:8080/"
        },
        "id": "mnjgu_5O0MIe",
        "outputId": "608dcb26-d979-410f-cb42-ddd6427bb8e3"
      },
      "execution_count": 66,
      "outputs": [
        {
          "output_type": "stream",
          "name": "stdout",
          "text": [
            "Accuracy on train data with combined features: 0.941648868005126\n",
            "Accuracy on test data with combined features: 0.8448275862068966\n"
          ]
        }
      ]
    },
    {
      "cell_type": "markdown",
      "metadata": {
        "id": "4IdLBdpQxM-G"
      },
      "source": [
        "**Ответ:** добавление признака TweetAt, а точнее месяца, в который был написан твит, не привело к увеличению качества модели\n",
        "\n"
      ]
    },
    {
      "cell_type": "markdown",
      "source": [
        "Поработайте с признаком Location в обучающей выборке. Сколько уникальных значений?"
      ],
      "metadata": {
        "id": "r2JtRPhNP6qx"
      }
    },
    {
      "cell_type": "code",
      "source": [
        "print(f'Number of unique locations (including Unknown): {len(X_train[\"Location\"].unique())}')"
      ],
      "metadata": {
        "id": "xYQZQ1FRNpoe",
        "colab": {
          "base_uri": "https://localhost:8080/"
        },
        "outputId": "8b6e735f-2fce-46eb-f860-6e99eeed3b2a"
      },
      "execution_count": 73,
      "outputs": [
        {
          "output_type": "stream",
          "name": "stdout",
          "text": [
            "Number of unique locations (including Unknown): 7949\n"
          ]
        }
      ]
    },
    {
      "cell_type": "markdown",
      "source": [
        "Постройте гистограмму топ-10 по популярности местоположений (исключая Unknown)"
      ],
      "metadata": {
        "id": "6k4JwpRTQISa"
      }
    },
    {
      "cell_type": "code",
      "source": [
        "filtered_locations = X_train['Location'][X_train['Location'] != 'Unknown']\n",
        "location_counts = filtered_locations.value_counts()\n",
        "top_10_locations = location_counts.head(10)"
      ],
      "metadata": {
        "id": "J91YkhegJ0mz"
      },
      "execution_count": 74,
      "outputs": []
    },
    {
      "cell_type": "code",
      "source": [
        "plt.figure(figsize=(12, 6))\n",
        "top_10_locations.plot(kind='bar', color='skyblue')\n",
        "plt.xlabel('Location')\n",
        "plt.ylabel('Frequency')\n",
        "plt.title('Top 10 Most Popular Locations (excluding Unknown)')\n",
        "plt.xticks(rotation=45, ha='right')\n",
        "plt.show()"
      ],
      "metadata": {
        "colab": {
          "base_uri": "https://localhost:8080/",
          "height": 642
        },
        "id": "oS-pgPR8_UXP",
        "outputId": "005a6c96-4da9-4a96-c6a6-326a151ee8af"
      },
      "execution_count": 75,
      "outputs": [
        {
          "output_type": "display_data",
          "data": {
            "text/plain": [
              "<Figure size 1200x600 with 1 Axes>"
            ],
            "image/png": "[encoded data removed]"
          },
          "metadata": {}
        }
      ]
    },
    {
      "cell_type": "markdown",
      "source": [
        "Видно, что многие местоположения включают в себя более точное название места, чем другие (Например, у некоторых стоит London, UK; а у некоторых просто UK или United Kingdom).\n",
        "\n",
        "Создайте новый признак WiderLocation, который содержит самое широкое местоположение (например, из London, UK должно получиться UK). Сколько уникальных категорий теперь? Постройте аналогичную гистограмму."
      ],
      "metadata": {
        "id": "ZOsv3lODTfYB"
      }
    },
    {
      "cell_type": "code",
      "source": [
        "def get_wider_location(location):\n",
        "    if pd.isna(location) or location == 'Unknown':\n",
        "        return 'Unknown'\n",
        "    parts = location.split(',')\n",
        "    return parts[-1].strip()"
      ],
      "metadata": {
        "id": "mSkow6acOMyD"
      },
      "execution_count": 79,
      "outputs": []
    },
    {
      "cell_type": "code",
      "source": [
        "X_train['WiderLocation'] = X_train['Location'].apply(get_wider_location)\n",
        "X_test['WiderLocation'] = X_test['Location'].apply(get_wider_location)\n",
        "unique_wider_locations = X_train['WiderLocation'].nunique()\n",
        "print(f\"Number of unique wider locations: {unique_wider_locations}\")"
      ],
      "metadata": {
        "colab": {
          "base_uri": "https://localhost:8080/"
        },
        "id": "WrOAGjJ3_46V",
        "outputId": "cd4c9fa0-d921-4b7a-dc58-936d2a863bde"
      },
      "execution_count": 83,
      "outputs": [
        {
          "output_type": "stream",
          "name": "stdout",
          "text": [
            "Number of unique wider locations: 4631\n"
          ]
        }
      ]
    },
    {
      "cell_type": "markdown",
      "source": [
        "Количество уникальных категорий локации уменьшилось до 4631"
      ],
      "metadata": {
        "id": "3xK_oW5wALy7"
      }
    },
    {
      "cell_type": "code",
      "source": [
        "filtered_wider_locations = X_train['WiderLocation'][X_train['WiderLocation'] != 'Unknown']\n",
        "wider_location_counts = filtered_wider_locations.value_counts()\n",
        "\n",
        "top_10_wider_locations = wider_location_counts.head(10)\n",
        "\n",
        "plt.figure(figsize=(12, 6))\n",
        "top_10_wider_locations.plot(kind='bar', color='skyblue')\n",
        "plt.xlabel('Wider Location')\n",
        "plt.ylabel('Frequency')\n",
        "plt.title('Top 10 Most Popular Wider Locations (excluding Unknown)')\n",
        "plt.xticks(rotation=45, ha='right')\n",
        "plt.show()"
      ],
      "metadata": {
        "colab": {
          "base_uri": "https://localhost:8080/",
          "height": 639
        },
        "id": "fOpVexR-AGC5",
        "outputId": "7d6c43d5-c460-4814-b481-a6add308b163"
      },
      "execution_count": 84,
      "outputs": [
        {
          "output_type": "display_data",
          "data": {
            "text/plain": [
              "<Figure size 1200x600 with 1 Axes>"
            ],
            "image/png": "[encoded data removed]"
          },
          "metadata": {}
        }
      ]
    },
    {
      "cell_type": "markdown",
      "source": [
        "Закодируйте признак WiderLocation с помощью OHE таким образом, чтобы создались только столбцы для местоположений, которые встречаются более одного раза. Сколько таких значений?\n"
      ],
      "metadata": {
        "id": "cgyWrD2eVfff"
      }
    },
    {
      "cell_type": "code",
      "source": [
        "common_locations = X_train['WiderLocation'].value_counts()[X_train['WiderLocation'].value_counts() > 1].index.tolist()\n",
        "\n",
        "X_train_ohe = pd.get_dummies(X_train[X_train['WiderLocation'].isin(common_locations)]['WiderLocation'])\n",
        "X_test_ohe = pd.get_dummies(X_test[X_test['WiderLocation'].isin(common_locations)]['WiderLocation'])\n",
        "\n",
        "\n",
        "unique_values_count = len(X_train_ohe.columns)\n",
        "print(\"Number of unique locations that appear more than once:\", unique_values_count)\n"
      ],
      "metadata": {
        "id": "SeJBfBWgPvg_",
        "colab": {
          "base_uri": "https://localhost:8080/"
        },
        "outputId": "d924d203-5b4c-46a9-933e-21a1d6e3c5f6"
      },
      "execution_count": 88,
      "outputs": [
        {
          "output_type": "stream",
          "name": "stdout",
          "text": [
            "Number of unique locations that appear more than once: 988\n"
          ]
        }
      ]
    },
    {
      "cell_type": "markdown",
      "source": [
        "Добавьте этот признак к матрице отскалированных текстовых признаков, обучите логистическую регрессию, замерьте качество. Как оно изменилось? Оказался ли признак полезным?\n",
        "\n",
        "\n",
        "*Подсказка:* используйте параметр `categories` в энкодере."
      ],
      "metadata": {
        "id": "ZyMX5kZuimPK"
      }
    },
    {
      "cell_type": "code",
      "source": [
        "from sklearn.compose import ColumnTransformer\n",
        "from sklearn.preprocessing import OneHotEncoder\n",
        "\n",
        "\n",
        "encoder = OneHotEncoder(categories=[common_locations], sparse=False, handle_unknown='ignore')\n",
        "\n",
        "X_train_encoded = encoder.fit_transform(X_train[['WiderLocation']])\n",
        "X_test_encoded = encoder.transform(X_test[['WiderLocation']])\n",
        "\n",
        "X_train_combined = hstack([X_train_scaled, X_train_encoded])\n",
        "X_test_combined = hstack([X_test_scaled, X_test_encoded])\n",
        "\n",
        "logistic_regression_combined = LogisticRegression(max_iter=1000)\n",
        "logistic_regression_combined.fit(X_train_combined, y_train)\n",
        "\n",
        "train_pred_combined = logistic_regression_combined.predict(X_train_combined)\n",
        "test_pred_combined = logistic_regression_combined.predict(X_test_combined)\n",
        "\n",
        "train_accuracy_combined = accuracy_score(y_train, train_pred_combined)\n",
        "test_accuracy_combined = accuracy_score(y_test, test_pred_combined)\n",
        "\n",
        "\n",
        "print(\"Accuracy on train data with combined features:\", train_accuracy_combined)\n",
        "print(\"Accuracy on test data with combined features:\", test_accuracy_combined)\n"
      ],
      "metadata": {
        "id": "EO1jNPeeim7A",
        "colab": {
          "base_uri": "https://localhost:8080/"
        },
        "outputId": "e9f2253f-4493-48aa-fd91-bc85299652ff"
      },
      "execution_count": 91,
      "outputs": [
        {
          "output_type": "stream",
          "name": "stderr",
          "text": [
            "/usr/local/lib/python3.10/dist-packages/sklearn/preprocessing/_encoders.py:868: FutureWarning: `sparse` was renamed to `sparse_output` in version 1.2 and will be removed in 1.4. `sparse_output` is ignored unless you leave `sparse` to its default value.\n",
            "  warnings.warn(\n"
          ]
        },
        {
          "output_type": "stream",
          "name": "stdout",
          "text": [
            "Accuracy on train data with combined features: 0.9457496796240923\n",
            "Accuracy on test data with combined features: 0.8445286027506478\n"
          ]
        }
      ]
    },
    {
      "cell_type": "markdown",
      "source": [
        "**Ответ:** # Качество снова не увеличилось (увеличилось только на обучающей выборке, что говорит о большей переобученности модели). Признак не оказался полезным... Есть ощущение, что я делаю что-то не так :("
      ],
      "metadata": {
        "id": "7dHsGlDRYUQt"
      }
    },
    {
      "cell_type": "markdown",
      "source": [
        "## Задание 8 Хорошее качество (Бонус 1 балл)"
      ],
      "metadata": {
        "id": "IWn6h4W9eD3S"
      }
    },
    {
      "cell_type": "markdown",
      "source": [
        "Добейтесь accuracy=0.9 на тестовой выборке (можно сменить токенайзер, векторайзер, модель и т.д.)"
      ],
      "metadata": {
        "id": "-HDI0SU6eLgi"
      }
    },
    {
      "cell_type": "code",
      "source": [
        "from sklearn.linear_model import LogisticRegression\n",
        "from sklearn.metrics import accuracy_score\n",
        "\n",
        "vectorizer = CountVectorizer(tokenizer=custom_stem_tokenizer)\n",
        "\n",
        "X_train_vectorized = vectorizer.fit_transform(X_train['OriginalTweet'])\n",
        "X_test_vectorized = vectorizer.transform(X_test['OriginalTweet'])"
      ],
      "metadata": {
        "colab": {
          "base_uri": "https://localhost:8080/"
        },
        "id": "g2lqwtkBQbkE",
        "outputId": "39e47ab1-2073-4a9c-c2b9-d45271d0f0a2"
      },
      "execution_count": 102,
      "outputs": [
        {
          "output_type": "stream",
          "name": "stdout",
          "text": [
            "Accuracy on training data: 0.9717214865442119\n",
            "Accuracy on testing data: 0.8673510065776361\n"
          ]
        },
        {
          "output_type": "stream",
          "name": "stderr",
          "text": [
            "/usr/local/lib/python3.10/dist-packages/sklearn/linear_model/_logistic.py:458: ConvergenceWarning: lbfgs failed to converge (status=1):\n",
            "STOP: TOTAL NO. of ITERATIONS REACHED LIMIT.\n",
            "\n",
            "Increase the number of iterations (max_iter) or scale the data as shown in:\n",
            "    https://scikit-learn.org/stable/modules/preprocessing.html\n",
            "Please also refer to the documentation for alternative solver options:\n",
            "    https://scikit-learn.org/stable/modules/linear_model.html#logistic-regression\n",
            "  n_iter_i = _check_optimize_result(\n"
          ]
        }
      ]
    },
    {
      "cell_type": "code",
      "source": [
        "logistic_regression = LogisticRegression(max_iter=75, penalty='l2', C=0.3)\n",
        "\n",
        "\n",
        "logistic_regression.fit(X_train_vectorized, y_train)\n",
        "\n",
        "train_pred = logistic_regression.predict(X_train_vectorized)\n",
        "test_pred = logistic_regression.predict(X_test_vectorized)\n",
        "\n",
        "train_accuracy = accuracy_score(y_train, train_pred)\n",
        "test_accuracy = accuracy_score(y_test, test_pred)\n",
        "\n",
        "\n",
        "print(\"Accuracy on training data:\", train_accuracy)\n",
        "print(\"Accuracy on testing data:\", test_accuracy)"
      ],
      "metadata": {
        "colab": {
          "base_uri": "https://localhost:8080/"
        },
        "id": "yw7WJ9RsSE5w",
        "outputId": "5f154853-8949-4dae-a35c-af1ae9e928c3"
      },
      "execution_count": 111,
      "outputs": [
        {
          "output_type": "stream",
          "name": "stdout",
          "text": [
            "Accuracy on training data: 0.944596326356258\n",
            "Accuracy on testing data: 0.8704405022922065\n"
          ]
        },
        {
          "output_type": "stream",
          "name": "stderr",
          "text": [
            "/usr/local/lib/python3.10/dist-packages/sklearn/linear_model/_logistic.py:458: ConvergenceWarning: lbfgs failed to converge (status=1):\n",
            "STOP: TOTAL NO. of ITERATIONS REACHED LIMIT.\n",
            "\n",
            "Increase the number of iterations (max_iter) or scale the data as shown in:\n",
            "    https://scikit-learn.org/stable/modules/preprocessing.html\n",
            "Please also refer to the documentation for alternative solver options:\n",
            "    https://scikit-learn.org/stable/modules/linear_model.html#logistic-regression\n",
            "  n_iter_i = _check_optimize_result(\n"
          ]
        }
      ]
    },
    {
      "cell_type": "markdown",
      "source": [
        "Точность на тестовой выборке составила 0.87 Почти получилось :("
      ],
      "metadata": {
        "id": "zBOwrN8cVhZ9"
      }
    }
  ],
  "metadata": {
    "colab": {
      "provenance": []
    },
    "kernelspec": {
      "display_name": "Python 3",
      "name": "python3"
    },
    "language_info": {
      "name": "python"
    }
  },
  "nbformat": 4,
  "nbformat_minor": 0
}